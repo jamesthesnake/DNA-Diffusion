{
  "cells": [
    {
      "cell_type": "markdown",
      "metadata": {
        "id": "CBca78a5WRED"
      },
      "source": [
        "Changes to the notebook:\n",
        "\n",
        "1. Additional metrics to validate the approach: [NOTE: some of these metrics can be repurposed for the UNET (stable diffusion part)]\n",
        "\n",
        "       a) **METRIC 1**, Recovery, defined as the percentage of fully (meaning not just parts of the sequence for)  predicted/recovered motifs from the validation set [Similiar metric is used in molecular generation as well]\n",
        "       b) **METRIC 2** Partial recovery, defined as the percentage of the motifs where we predicted atleast RECOVERY_THRESHOLD correctly, independent wether the whole sequence was predicted correctly. This RECOVER_THRESHOLD is a variable, so if we set it 50% then we count the percentage of motifs where we recovered atleast 50% of the nucleotides of that sequence.\n",
        "       b) **METRIC 3** Accuracy, defined as the percentage of nucleotides that we predicted correctly, independent wether the whole sequence was predicted correctly.\n",
        "       c) **METRIC 4**, Seperation of the latent space using low dimensional visuals, UMAP. If we can see clear seperation in lower dimensional space, that means that latent variables are not bad.\n",
        "       d) **METRIC 5** Seperation of the latent space using low dimensional visuals, non-linear projection t-SNE. If we can see clear seperation in lower dimensional space, that means that latent variables are not bad. \n",
        "       e) **METRIC 6**, Comparing different lengths of motifs (7-9-11) to a Jaspar vertrabrates DB using gimme scan.\n",
        "       f) [weak metric/proxys] **METRIC 7**, observing the composite loss and perplexity during training. Perplexity should go up and composite lose should go down. \n",
        "       \n",
        "**Perplexity**: In the context of a VQ-VAE (Vector Quantized Variational Autoencoder), perplexity is a measure of how well the model can reconstruct a given input. It is defined as the exponentiated average log-probability of the input, where the log-probability is computed using the model's decoder.\n",
        "\n",
        "Perplexity can be thought of as a measure of how \"surprised\" the model is by the input. A low perplexity indicates that the model is able to reconstruct the input well and is not surprised by it, whereas a high perplexity indicates that the model is unable to reconstruct the input well and is surprised by it.\n",
        "\n",
        "***NOTE : For all 7 Metrics (except recovery, there we rebuild little 100% of motifs, which is a good thing, we dont want to overfit) we observe favorable trends, where we can infer that the learning happens and we are finding a desired representation!***  \n",
        "   \n",
        "2. Split the test set into 3 distinct chromosomes, with expectation that different chromosomes will have different latent space. The same analysis should be repeated for different cell types.\n",
        "3. Complete pre-refactoring of the code, cleaning and writing doc strings. This is ready to be copied and merged into codebase.\n",
        "4. Adjusted the architecture for the VQ-VAE from https://github.com/zalandoresearch/pytorch-vq-vae\n",
        "5. Added theoretical explanations and motivations of different parts of the code.\n",
        "6. Reconcile different things between baseline stable diffusion nb and this one (similiar functions, variable naming, descriptions etc) such that refactoring is easier."
      ]
    },
    {
      "cell_type": "markdown",
      "metadata": {
        "id": "F3ahQpl0WREH"
      },
      "source": [
        "This notebook is divided in following chapters:\n",
        "\n",
        "1. Utility functions\n",
        "2. Data import and preperation\n",
        "3. VQ-VAE architecture\n",
        "4. VQ-VAE training metric functions and evaluation"
      ]
    },
    {
      "cell_type": "code",
      "source": [
        "!pip install einops\n",
        "!pip install einops\n",
        "!pip install torchmetrics\n",
        "!pip install gimmemotifs    #can take around 10 minutes\n",
        "!genomepy install hg38\n",
        "!pip install livelossplot"
      ],
      "metadata": {
        "colab": {
          "base_uri": "https://localhost:8080/",
          "height": 1000
        },
        "id": "8tcC3Z5NPT5M",
        "outputId": "2e87c91b-e0c4-42bd-c07e-f904c6491108"
      },
      "execution_count": 1,
      "outputs": [
        {
          "output_type": "stream",
          "name": "stdout",
          "text": [
            "Looking in indexes: https://pypi.org/simple, https://us-python.pkg.dev/colab-wheels/public/simple/\n",
            "Collecting einops\n",
            "  Downloading einops-0.6.0-py3-none-any.whl (41 kB)\n",
            "\u001b[K     |████████████████████████████████| 41 kB 192 kB/s \n",
            "\u001b[?25hInstalling collected packages: einops\n",
            "Successfully installed einops-0.6.0\n",
            "Looking in indexes: https://pypi.org/simple, https://us-python.pkg.dev/colab-wheels/public/simple/\n",
            "Requirement already satisfied: einops in /usr/local/lib/python3.8/dist-packages (0.6.0)\n",
            "Looking in indexes: https://pypi.org/simple, https://us-python.pkg.dev/colab-wheels/public/simple/\n",
            "Collecting torchmetrics\n",
            "  Downloading torchmetrics-0.11.0-py3-none-any.whl (512 kB)\n",
            "\u001b[K     |████████████████████████████████| 512 kB 6.5 MB/s \n",
            "\u001b[?25hRequirement already satisfied: numpy>=1.17.2 in /usr/local/lib/python3.8/dist-packages (from torchmetrics) (1.21.6)\n",
            "Requirement already satisfied: typing-extensions in /usr/local/lib/python3.8/dist-packages (from torchmetrics) (4.4.0)\n",
            "Requirement already satisfied: torch>=1.8.1 in /usr/local/lib/python3.8/dist-packages (from torchmetrics) (1.13.0+cu116)\n",
            "Requirement already satisfied: packaging in /usr/local/lib/python3.8/dist-packages (from torchmetrics) (21.3)\n",
            "Requirement already satisfied: pyparsing!=3.0.5,>=2.0.2 in /usr/local/lib/python3.8/dist-packages (from packaging->torchmetrics) (3.0.9)\n",
            "Installing collected packages: torchmetrics\n",
            "Successfully installed torchmetrics-0.11.0\n",
            "Looking in indexes: https://pypi.org/simple, https://us-python.pkg.dev/colab-wheels/public/simple/\n",
            "Collecting gimmemotifs\n",
            "  Downloading gimmemotifs-0.17.0.tar.gz (34.5 MB)\n",
            "\u001b[K     |████████████████████████████████| 34.5 MB 11.5 MB/s \n",
            "\u001b[?25hCollecting biofluff\n",
            "  Downloading biofluff-3.0.4.tar.gz (28 kB)\n",
            "Requirement already satisfied: setuptools>=0.7 in /usr/local/lib/python3.8/dist-packages (from gimmemotifs) (57.4.0)\n",
            "Requirement already satisfied: numpy in /usr/local/lib/python3.8/dist-packages (from gimmemotifs) (1.21.6)\n",
            "Requirement already satisfied: scipy>=0.9.0 in /usr/local/lib/python3.8/dist-packages (from gimmemotifs) (1.7.3)\n",
            "Requirement already satisfied: matplotlib>=2 in /usr/local/lib/python3.8/dist-packages (from gimmemotifs) (3.2.2)\n",
            "Collecting iteround\n",
            "  Downloading iteround-1.0.4-py3-none-any.whl (7.3 kB)\n",
            "Requirement already satisfied: jinja2 in /usr/local/lib/python3.8/dist-packages (from gimmemotifs) (2.11.3)\n",
            "Requirement already satisfied: pandas>=1.1 in /usr/local/lib/python3.8/dist-packages (from gimmemotifs) (1.3.5)\n",
            "Requirement already satisfied: pyarrow>=0.16.0 in /usr/local/lib/python3.8/dist-packages (from gimmemotifs) (9.0.0)\n",
            "Requirement already satisfied: pyyaml>=3.10 in /usr/local/lib/python3.8/dist-packages (from gimmemotifs) (6.0)\n",
            "Collecting pybedtools\n",
            "  Downloading pybedtools-0.9.0.tar.gz (12.5 MB)\n",
            "\u001b[K     |████████████████████████████████| 12.5 MB 40.3 MB/s \n",
            "\u001b[?25hRequirement already satisfied: statsmodels in /usr/local/lib/python3.8/dist-packages (from gimmemotifs) (0.12.2)\n",
            "Requirement already satisfied: scikit-learn in /usr/local/lib/python3.8/dist-packages (from gimmemotifs) (1.0.2)\n",
            "Requirement already satisfied: seaborn in /usr/local/lib/python3.8/dist-packages (from gimmemotifs) (0.11.2)\n",
            "Collecting pysam\n",
            "  Downloading pysam-0.20.0-cp38-cp38-manylinux_2_24_x86_64.whl (16.1 MB)\n",
            "\u001b[K     |████████████████████████████████| 16.1 MB 39.8 MB/s \n",
            "\u001b[?25hRequirement already satisfied: xgboost>=0.71 in /usr/local/lib/python3.8/dist-packages (from gimmemotifs) (0.90)\n",
            "Collecting xdg\n",
            "  Downloading xdg-5.1.1-py3-none-any.whl (5.0 kB)\n",
            "Collecting diskcache\n",
            "  Downloading diskcache-5.4.0-py3-none-any.whl (44 kB)\n",
            "\u001b[K     |████████████████████████████████| 44 kB 2.6 MB/s \n",
            "\u001b[?25hCollecting xxhash\n",
            "  Downloading xxhash-3.1.0-cp38-cp38-manylinux_2_17_x86_64.manylinux2014_x86_64.whl (212 kB)\n",
            "\u001b[K     |████████████████████████████████| 212 kB 42.5 MB/s \n",
            "\u001b[?25hCollecting configparser\n",
            "  Downloading configparser-5.3.0-py3-none-any.whl (19 kB)\n",
            "Collecting genomepy>=0.8.3\n",
            "  Downloading genomepy-0.14.0-py3-none-any.whl (80 kB)\n",
            "\u001b[K     |████████████████████████████████| 80 kB 6.0 MB/s \n",
            "\u001b[?25hRequirement already satisfied: tqdm in /usr/local/lib/python3.8/dist-packages (from gimmemotifs) (4.64.1)\n",
            "Requirement already satisfied: pillow in /usr/local/lib/python3.8/dist-packages (from gimmemotifs) (7.1.2)\n",
            "Collecting logomaker\n",
            "  Downloading logomaker-0.8-py2.py3-none-any.whl (11.8 MB)\n",
            "\u001b[K     |████████████████████████████████| 11.8 MB 39.9 MB/s \n",
            "\u001b[?25hCollecting qnorm\n",
            "  Downloading qnorm-0.8.1-py3-none-any.whl (15 kB)\n",
            "Collecting loguru\n",
            "  Downloading loguru-0.6.0-py3-none-any.whl (58 kB)\n",
            "\u001b[K     |████████████████████████████████| 58 kB 4.8 MB/s \n",
            "\u001b[?25hCollecting mygene\n",
            "  Downloading mygene-3.2.2-py2.py3-none-any.whl (5.4 kB)\n",
            "Requirement already satisfied: click in /usr/local/lib/python3.8/dist-packages (from genomepy>=0.8.3->gimmemotifs) (7.1.2)\n",
            "Collecting mysql-connector-python\n",
            "  Downloading mysql_connector_python-8.0.31-cp38-cp38-manylinux1_x86_64.whl (23.5 MB)\n",
            "\u001b[K     |████████████████████████████████| 23.5 MB 1.1 MB/s \n",
            "\u001b[?25hCollecting colorama\n",
            "  Downloading colorama-0.4.6-py2.py3-none-any.whl (25 kB)\n",
            "Requirement already satisfied: requests in /usr/local/lib/python3.8/dist-packages (from genomepy>=0.8.3->gimmemotifs) (2.23.0)\n",
            "Requirement already satisfied: filelock in /usr/local/lib/python3.8/dist-packages (from genomepy>=0.8.3->gimmemotifs) (3.8.0)\n",
            "Collecting norns>=0.1.5\n",
            "  Downloading norns-0.1.6.tar.gz (3.6 kB)\n",
            "Collecting pyfaidx>=0.5.7\n",
            "  Downloading pyfaidx-0.7.1.tar.gz (103 kB)\n",
            "\u001b[K     |████████████████████████████████| 103 kB 53.4 MB/s \n",
            "\u001b[?25hCollecting biopython>=1.73\n",
            "  Downloading biopython-1.80-cp38-cp38-manylinux_2_17_x86_64.manylinux2014_x86_64.whl (3.1 MB)\n",
            "\u001b[K     |████████████████████████████████| 3.1 MB 46.0 MB/s \n",
            "\u001b[?25hRequirement already satisfied: appdirs in /usr/local/lib/python3.8/dist-packages (from genomepy>=0.8.3->gimmemotifs) (1.4.4)\n",
            "Requirement already satisfied: kiwisolver>=1.0.1 in /usr/local/lib/python3.8/dist-packages (from matplotlib>=2->gimmemotifs) (1.4.4)\n",
            "Requirement already satisfied: cycler>=0.10 in /usr/local/lib/python3.8/dist-packages (from matplotlib>=2->gimmemotifs) (0.11.0)\n",
            "Requirement already satisfied: python-dateutil>=2.1 in /usr/local/lib/python3.8/dist-packages (from matplotlib>=2->gimmemotifs) (2.8.2)\n",
            "Requirement already satisfied: pyparsing!=2.0.4,!=2.1.2,!=2.1.6,>=2.0.1 in /usr/local/lib/python3.8/dist-packages (from matplotlib>=2->gimmemotifs) (3.0.9)\n",
            "Collecting nose\n",
            "  Downloading nose-1.3.7-py3-none-any.whl (154 kB)\n",
            "\u001b[K     |████████████████████████████████| 154 kB 51.0 MB/s \n",
            "\u001b[?25hRequirement already satisfied: pytz>=2017.3 in /usr/local/lib/python3.8/dist-packages (from pandas>=1.1->gimmemotifs) (2022.6)\n",
            "Requirement already satisfied: six in /usr/local/lib/python3.8/dist-packages (from pyfaidx>=0.5.7->genomepy>=0.8.3->gimmemotifs) (1.15.0)\n",
            "Collecting HTSeq\n",
            "  Downloading HTSeq-2.0.2-cp38-cp38-manylinux_2_17_x86_64.manylinux2014_x86_64.whl (2.0 MB)\n",
            "\u001b[K     |████████████████████████████████| 2.0 MB 57.7 MB/s \n",
            "\u001b[?25hRequirement already satisfied: palettable in /usr/local/lib/python3.8/dist-packages (from biofluff->gimmemotifs) (3.3.0)\n",
            "Collecting pyBigWig\n",
            "  Downloading pyBigWig-0.3.18.tar.gz (64 kB)\n",
            "\u001b[K     |████████████████████████████████| 64 kB 2.7 MB/s \n",
            "\u001b[?25hRequirement already satisfied: MarkupSafe>=0.23 in /usr/local/lib/python3.8/dist-packages (from jinja2->gimmemotifs) (2.0.1)\n",
            "Collecting biothings-client>=0.2.6\n",
            "  Downloading biothings_client-0.2.6-py2.py3-none-any.whl (37 kB)\n",
            "Requirement already satisfied: urllib3!=1.25.0,!=1.25.1,<1.26,>=1.21.1 in /usr/local/lib/python3.8/dist-packages (from requests->genomepy>=0.8.3->gimmemotifs) (1.24.3)\n",
            "Requirement already satisfied: certifi>=2017.4.17 in /usr/local/lib/python3.8/dist-packages (from requests->genomepy>=0.8.3->gimmemotifs) (2022.9.24)\n",
            "Requirement already satisfied: idna<3,>=2.5 in /usr/local/lib/python3.8/dist-packages (from requests->genomepy>=0.8.3->gimmemotifs) (2.10)\n",
            "Requirement already satisfied: chardet<4,>=3.0.2 in /usr/local/lib/python3.8/dist-packages (from requests->genomepy>=0.8.3->gimmemotifs) (3.0.4)\n",
            "Requirement already satisfied: protobuf<=3.20.1,>=3.11.0 in /usr/local/lib/python3.8/dist-packages (from mysql-connector-python->genomepy>=0.8.3->gimmemotifs) (3.19.6)\n",
            "Requirement already satisfied: numba in /usr/local/lib/python3.8/dist-packages (from qnorm->gimmemotifs) (0.56.4)\n",
            "Requirement already satisfied: importlib-metadata in /usr/local/lib/python3.8/dist-packages (from numba->qnorm->gimmemotifs) (4.13.0)\n",
            "Requirement already satisfied: llvmlite<0.40,>=0.39.0dev0 in /usr/local/lib/python3.8/dist-packages (from numba->qnorm->gimmemotifs) (0.39.1)\n",
            "Requirement already satisfied: zipp>=0.5 in /usr/local/lib/python3.8/dist-packages (from importlib-metadata->numba->qnorm->gimmemotifs) (3.11.0)\n",
            "Requirement already satisfied: joblib>=0.11 in /usr/local/lib/python3.8/dist-packages (from scikit-learn->gimmemotifs) (1.2.0)\n",
            "Requirement already satisfied: threadpoolctl>=2.0.0 in /usr/local/lib/python3.8/dist-packages (from scikit-learn->gimmemotifs) (3.1.0)\n",
            "Requirement already satisfied: patsy>=0.5 in /usr/local/lib/python3.8/dist-packages (from statsmodels->gimmemotifs) (0.5.3)\n",
            "Building wheels for collected packages: gimmemotifs, norns, pyfaidx, biofluff, pybedtools, pyBigWig\n",
            "  Building wheel for gimmemotifs (setup.py) ... \u001b[?25l\u001b[?25hdone\n",
            "  Created wheel for gimmemotifs: filename=gimmemotifs-0.17.0-cp38-cp38-linux_x86_64.whl size=10669298 sha256=e0452b476139d04c505365f9f3dab563c169dc13e79016c1fc431a899b453d1d\n",
            "  Stored in directory: /root/.cache/pip/wheels/0d/2d/ce/24290afe67b9ffdcde8b117b597f375a6a357829cc9493e98b\n",
            "  Building wheel for norns (setup.py) ... \u001b[?25l\u001b[?25hdone\n",
            "  Created wheel for norns: filename=norns-0.1.6-py3-none-any.whl size=4013 sha256=89b18453f95c9eb45462130bbca45c0a9c5828311b47bacc3e9545e3fe933a59\n",
            "  Stored in directory: /root/.cache/pip/wheels/0a/34/6e/bd12cf9669539c42efe616caccc06dcd6ada87c1e0c8a8a086\n",
            "  Building wheel for pyfaidx (setup.py) ... \u001b[?25l\u001b[?25hdone\n",
            "  Created wheel for pyfaidx: filename=pyfaidx-0.7.1-py3-none-any.whl size=27748 sha256=9dda3c80c2876b1e30200b5e434cfd44af43fbdc79148f602985995a1b4e3886\n",
            "  Stored in directory: /root/.cache/pip/wheels/0e/6c/f4/2560f2678a35d8b1997bb693336743308ef32b78bc9ce9aaf4\n",
            "  Building wheel for biofluff (setup.py) ... \u001b[?25l\u001b[?25hdone\n",
            "  Created wheel for biofluff: filename=biofluff-3.0.4-py3-none-any.whl size=31254 sha256=ed114fff1480003d10369399c956e4ec3c82828aa9d86e783681fc1ef7678b60\n",
            "  Stored in directory: /root/.cache/pip/wheels/b4/54/2a/0478e26a925aaba90bbc194340237f76054812ae5b1a6768e8\n",
            "  Building wheel for pybedtools (setup.py) ... \u001b[?25l\u001b[?25hdone\n",
            "  Created wheel for pybedtools: filename=pybedtools-0.9.0-cp38-cp38-linux_x86_64.whl size=13697353 sha256=ebc2b61caf907351045dd28529c66c6d2ac85986979d1cdbd1292ea320903152\n",
            "  Stored in directory: /root/.cache/pip/wheels/7b/10/cc/219c98e11fc3cbf65aa83bfe028d72b24043d6c921a3c19b50\n",
            "  Building wheel for pyBigWig (setup.py) ... \u001b[?25l\u001b[?25hdone\n",
            "  Created wheel for pyBigWig: filename=pyBigWig-0.3.18-cp38-cp38-linux_x86_64.whl size=197044 sha256=84efb1692d9459b663a38044ea5882fae608e24cd74dcb7d472fc6b915d295b3\n",
            "  Stored in directory: /root/.cache/pip/wheels/1f/d0/64/fa4977556a0cfae19b8b1cf546f1928e81c45a8f19f73aba9b\n",
            "Successfully built gimmemotifs norns pyfaidx biofluff pybedtools pyBigWig\n",
            "Installing collected packages: pysam, nose, biothings-client, pyfaidx, pyBigWig, pybedtools, norns, mysql-connector-python, mygene, loguru, HTSeq, diskcache, colorama, biopython, xxhash, xdg, qnorm, logomaker, iteround, genomepy, configparser, biofluff, gimmemotifs\n",
            "Successfully installed HTSeq-2.0.2 biofluff-3.0.4 biopython-1.80 biothings-client-0.2.6 colorama-0.4.6 configparser-5.3.0 diskcache-5.4.0 genomepy-0.14.0 gimmemotifs-0.17.0 iteround-1.0.4 logomaker-0.8 loguru-0.6.0 mygene-3.2.2 mysql-connector-python-8.0.31 norns-0.1.6 nose-1.3.7 pyBigWig-0.3.18 pybedtools-0.9.0 pyfaidx-0.7.1 pysam-0.20.0 qnorm-0.8.1 xdg-5.1.1 xxhash-3.1.0\n"
          ]
        },
        {
          "output_type": "display_data",
          "data": {
            "application/vnd.colab-display-data+json": {
              "pip_warning": {
                "packages": [
                  "configparser"
                ]
              }
            }
          },
          "metadata": {}
        },
        {
          "output_type": "stream",
          "name": "stdout",
          "text": [
            "\u001b[32m06:24:49\u001b[0m \u001b[1m|\u001b[0m \u001b[34mINFO\u001b[0m \u001b[1m|\u001b[0m Downloading assembly summaries from GENCODE\n",
            "\u001b[32m06:25:13\u001b[0m \u001b[1m|\u001b[0m \u001b[34mINFO\u001b[0m \u001b[1m|\u001b[0m Downloading assembly summaries from UCSC\n",
            "\u001b[32m06:25:16\u001b[0m \u001b[1m|\u001b[0m \u001b[34mINFO\u001b[0m \u001b[1m|\u001b[0m Downloading assembly summaries from Ensembl\n",
            "\u001b[32m06:25:39\u001b[0m \u001b[1m|\u001b[0m \u001b[34mINFO\u001b[0m \u001b[1m|\u001b[0m Downloading genome from UCSC. Target URL: http://hgdownload.soe.ucsc.edu/goldenPath/hg38/bigZips/hg38.fa.gz...\n",
            "Download: 100% 938M/938M [00:12<00:00, 77.5MB/s]\u001b[0m\n",
            "\u001b[0m\u001b[32m06:25:52\u001b[0m \u001b[1m|\u001b[0m \u001b[34mINFO\u001b[0m \u001b[1m|\u001b[0m Genome download successful, starting post processing...\n",
            "\u001b[32m06:26:22\u001b[0m \u001b[1m|\u001b[0m \u001b[34mINFO\u001b[0m \u001b[1m|\u001b[0m name: hg38\n",
            "\u001b[32m06:26:22\u001b[0m \u001b[1m|\u001b[0m \u001b[34mINFO\u001b[0m \u001b[1m|\u001b[0m local name: hg38\n",
            "\u001b[32m06:26:22\u001b[0m \u001b[1m|\u001b[0m \u001b[34mINFO\u001b[0m \u001b[1m|\u001b[0m fasta: /root/.local/share/genomes/hg38/hg38.fa\n",
            "Filtering Fasta: 64.2M lines [00:36, 1.77M lines/s]\u001b[0m\n",
            "\u001b[0m\u001b[0mLooking in indexes: https://pypi.org/simple, https://us-python.pkg.dev/colab-wheels/public/simple/\n",
            "Collecting livelossplot\n",
            "  Downloading livelossplot-0.5.5-py3-none-any.whl (22 kB)\n",
            "Requirement already satisfied: bokeh in /usr/local/lib/python3.8/dist-packages (from livelossplot) (2.3.3)\n",
            "Requirement already satisfied: matplotlib in /usr/local/lib/python3.8/dist-packages (from livelossplot) (3.2.2)\n",
            "Requirement already satisfied: typing-extensions>=3.7.4 in /usr/local/lib/python3.8/dist-packages (from bokeh->livelossplot) (4.4.0)\n",
            "Requirement already satisfied: Jinja2>=2.9 in /usr/local/lib/python3.8/dist-packages (from bokeh->livelossplot) (2.11.3)\n",
            "Requirement already satisfied: numpy>=1.11.3 in /usr/local/lib/python3.8/dist-packages (from bokeh->livelossplot) (1.21.6)\n",
            "Requirement already satisfied: pillow>=7.1.0 in /usr/local/lib/python3.8/dist-packages (from bokeh->livelossplot) (7.1.2)\n",
            "Requirement already satisfied: packaging>=16.8 in /usr/local/lib/python3.8/dist-packages (from bokeh->livelossplot) (21.3)\n",
            "Requirement already satisfied: tornado>=5.1 in /usr/local/lib/python3.8/dist-packages (from bokeh->livelossplot) (6.0.4)\n",
            "Requirement already satisfied: python-dateutil>=2.1 in /usr/local/lib/python3.8/dist-packages (from bokeh->livelossplot) (2.8.2)\n",
            "Requirement already satisfied: PyYAML>=3.10 in /usr/local/lib/python3.8/dist-packages (from bokeh->livelossplot) (6.0)\n",
            "Requirement already satisfied: MarkupSafe>=0.23 in /usr/local/lib/python3.8/dist-packages (from Jinja2>=2.9->bokeh->livelossplot) (2.0.1)\n",
            "Requirement already satisfied: pyparsing!=3.0.5,>=2.0.2 in /usr/local/lib/python3.8/dist-packages (from packaging>=16.8->bokeh->livelossplot) (3.0.9)\n",
            "Requirement already satisfied: six>=1.5 in /usr/local/lib/python3.8/dist-packages (from python-dateutil>=2.1->bokeh->livelossplot) (1.15.0)\n",
            "Requirement already satisfied: cycler>=0.10 in /usr/local/lib/python3.8/dist-packages (from matplotlib->livelossplot) (0.11.0)\n",
            "Requirement already satisfied: kiwisolver>=1.0.1 in /usr/local/lib/python3.8/dist-packages (from matplotlib->livelossplot) (1.4.4)\n",
            "Installing collected packages: livelossplot\n",
            "Successfully installed livelossplot-0.5.5\n"
          ]
        }
      ]
    },
    {
      "cell_type": "code",
      "source": [
        "!pip install umap-learn"
      ],
      "metadata": {
        "colab": {
          "base_uri": "https://localhost:8080/"
        },
        "id": "QKdLYBRqumam",
        "outputId": "ed8ed37f-e068-4d65-c64b-8eaa3cadcee5"
      },
      "execution_count": 2,
      "outputs": [
        {
          "output_type": "stream",
          "name": "stdout",
          "text": [
            "Looking in indexes: https://pypi.org/simple, https://us-python.pkg.dev/colab-wheels/public/simple/\n",
            "Collecting umap-learn\n",
            "  Downloading umap-learn-0.5.3.tar.gz (88 kB)\n",
            "\u001b[K     |████████████████████████████████| 88 kB 4.1 MB/s \n",
            "\u001b[?25hRequirement already satisfied: numpy>=1.17 in /usr/local/lib/python3.8/dist-packages (from umap-learn) (1.21.6)\n",
            "Requirement already satisfied: scikit-learn>=0.22 in /usr/local/lib/python3.8/dist-packages (from umap-learn) (1.0.2)\n",
            "Requirement already satisfied: scipy>=1.0 in /usr/local/lib/python3.8/dist-packages (from umap-learn) (1.7.3)\n",
            "Requirement already satisfied: numba>=0.49 in /usr/local/lib/python3.8/dist-packages (from umap-learn) (0.56.4)\n",
            "Collecting pynndescent>=0.5\n",
            "  Downloading pynndescent-0.5.8.tar.gz (1.1 MB)\n",
            "\u001b[K     |████████████████████████████████| 1.1 MB 34.5 MB/s \n",
            "\u001b[?25hRequirement already satisfied: tqdm in /usr/local/lib/python3.8/dist-packages (from umap-learn) (4.64.1)\n",
            "Requirement already satisfied: llvmlite<0.40,>=0.39.0dev0 in /usr/local/lib/python3.8/dist-packages (from numba>=0.49->umap-learn) (0.39.1)\n",
            "Requirement already satisfied: setuptools in /usr/local/lib/python3.8/dist-packages (from numba>=0.49->umap-learn) (57.4.0)\n",
            "Requirement already satisfied: importlib-metadata in /usr/local/lib/python3.8/dist-packages (from numba>=0.49->umap-learn) (4.13.0)\n",
            "Requirement already satisfied: joblib>=0.11 in /usr/local/lib/python3.8/dist-packages (from pynndescent>=0.5->umap-learn) (1.2.0)\n",
            "Requirement already satisfied: threadpoolctl>=2.0.0 in /usr/local/lib/python3.8/dist-packages (from scikit-learn>=0.22->umap-learn) (3.1.0)\n",
            "Requirement already satisfied: zipp>=0.5 in /usr/local/lib/python3.8/dist-packages (from importlib-metadata->numba>=0.49->umap-learn) (3.11.0)\n",
            "Building wheels for collected packages: umap-learn, pynndescent\n",
            "  Building wheel for umap-learn (setup.py) ... \u001b[?25l\u001b[?25hdone\n",
            "  Created wheel for umap-learn: filename=umap_learn-0.5.3-py3-none-any.whl size=82829 sha256=0e330f1bc7355d2b979011e3fdf9063d194a3bbceb31b3510c50ff433371b73b\n",
            "  Stored in directory: /root/.cache/pip/wheels/a9/3a/67/06a8950e053725912e6a8c42c4a3a241410f6487b8402542ea\n",
            "  Building wheel for pynndescent (setup.py) ... \u001b[?25l\u001b[?25hdone\n",
            "  Created wheel for pynndescent: filename=pynndescent-0.5.8-py3-none-any.whl size=55513 sha256=d0f7d8d446e37648b7de05b3bb2cfbc39cfa15e3b6ff97318ce6d0e9330de68c\n",
            "  Stored in directory: /root/.cache/pip/wheels/1c/63/3a/29954bca1a27ba100ed8c27973a78cb71b43dc67aed62e80c3\n",
            "Successfully built umap-learn pynndescent\n",
            "Installing collected packages: pynndescent, umap-learn\n",
            "Successfully installed pynndescent-0.5.8 umap-learn-0.5.3\n"
          ]
        }
      ]
    },
    {
      "cell_type": "code",
      "source": [
        "from IPython.core.debugger import set_trace\n",
        "from matplotlib import pyplot as plt\n",
        "import pylab\n",
        "from mpl_toolkits.mplot3d import Axes3D\n",
        "from mpl_toolkits.mplot3d import proj3d\n",
        "%matplotlib inline\n",
        "%pylab inline\n",
        "import torch\n",
        "import copy\n",
        "from torch.utils.data import DataLoader, Dataset\n",
        "import torchvision.transforms as T\n",
        "import torch\n",
        "from IPython.display import display\n",
        "import torch.nn as nn\n",
        "from sklearn.manifold import TSNE\n",
        "import os; os.getpid()\n",
        "import pandas as pd\n",
        "import umap.umap_ as umap\n",
        "import torch\n",
        "import torch.nn as nn\n",
        "import torch.nn.functional as F\n",
        "from torch.utils.data import Dataset, DataLoader\n",
        "import torch.optim as optim\n",
        "import seaborn as sns"
      ],
      "metadata": {
        "colab": {
          "base_uri": "https://localhost:8080/"
        },
        "id": "0QbiSMtXulrW",
        "outputId": "01dc846f-daa9-4d70-acd8-6a6ba2f71292"
      },
      "execution_count": 36,
      "outputs": [
        {
          "output_type": "stream",
          "name": "stdout",
          "text": [
            "Populating the interactive namespace from numpy and matplotlib\n"
          ]
        },
        {
          "output_type": "stream",
          "name": "stderr",
          "text": [
            "/usr/local/lib/python3.8/dist-packages/IPython/core/magics/pylab.py:159: UserWarning: pylab import has clobbered these variables: ['copy', 'pylab']\n",
            "`%matplotlib` prevents importing * from pylab and numpy\n",
            "  warn(\"pylab import has clobbered these variables: %s\"  % clobbered +\n"
          ]
        }
      ]
    },
    {
      "cell_type": "code",
      "execution_count": 4,
      "metadata": {
        "id": "SmXhsgMMWREJ"
      },
      "outputs": [],
      "source": [
        "GLOBAL_SEED=42\n",
        "# Global seed\n",
        "\n",
        "BATCH_SIZE = 128\n",
        "# Batch size\n",
        "\n",
        "RECOVERY_THRESHOLD = 100 \n",
        "# number of nucleotides we need to recover to classify a motif as correctly recovered\n",
        "\n",
        "num_training_updates = 15000\n",
        "#The number of training updates to perform on the model\n",
        "\n",
        "N_EPOCHS=200\n",
        "#The number of epochs to train the model for\n",
        "\n",
        "num_hiddens = 128\n",
        "#The number of hidden units in the model's hidden layers\n",
        "\n",
        "num_residual_hiddens = 32\n",
        "#The number of hidden units in the model's residual hidden layers\n",
        "\n",
        "num_residual_layers = 2\n",
        "#The number of residual layers in the model\n",
        "\n",
        "embedding_dim = 64\n",
        "#The dimensionality of the model's embeddings\n",
        "\n",
        "num_embeddings = 512\n",
        "#The number of embeddings in the model\n",
        "\n",
        "commitment_cost = 0.25\n",
        "#The commitment cost of the model, controlling the amount of information preserved in the latent space\n",
        "\n",
        "decay = 0.99\n",
        "#The decay rate of the model's moving average\n",
        "\n",
        "learning_rate = 1e-3\n",
        "# the learning rate of the net\n",
        "\n",
        "NUCLEOTIDES = {'A': 0, 'T': 1, 'G': 2, 'C': 3}\n",
        "# Lookup for the nucleotides\n",
        "\n",
        "NUCLEOTIDES_REVERSED = {0 : 'A', 1 : 'T', 2 : 'G', 3 : 'C'}\n",
        "# Reversed lookup dict is needed when reversing the one-hot encoding for the metric 6"
      ]
    },
    {
      "cell_type": "markdown",
      "source": [
        "# Utility functions"
      ],
      "metadata": {
        "id": "nYl_ZspOrWeR"
      }
    },
    {
      "cell_type": "code",
      "execution_count": 5,
      "metadata": {
        "id": "RinDsUvHWREK"
      },
      "outputs": [],
      "source": [
        "def seed_everything(seed=GLOBAL_SEED):\n",
        "    \"\"\"\"\n",
        "    Seed everything.\n",
        "    \"\"\"   \n",
        "    random.seed(seed)\n",
        "    os.environ['PYTHONHASHSEED'] = str(seed)\n",
        "    np.random.seed(seed)\n",
        "    torch.manual_seed(seed)\n",
        "    torch.cuda.manual_seed(seed)\n",
        "    torch.cuda.manual_seed_all(seed)\n",
        "    torch.backends.cudnn.deterministic = True"
      ]
    },
    {
      "cell_type": "code",
      "execution_count": 6,
      "metadata": {
        "id": "XF8gWnmyWREK"
      },
      "outputs": [],
      "source": [
        "seed_everything()"
      ]
    },
    {
      "cell_type": "code",
      "execution_count": 7,
      "metadata": {
        "id": "wpRdF7t6WOwZ"
      },
      "outputs": [],
      "source": [
        "def one_hot_encode_sequences(seq, include_n=False):\n",
        "    \"\"\"\n",
        "    Converts a sequence of nucleotides to a one-hot encoded tensor.\n",
        "\n",
        "    Args:\n",
        "        seq (str): The sequence of nucleotides to encode.\n",
        "        include_n (bool, optional): Whether to include 'N' nucleotides in the encoding.\n",
        "\n",
        "    Returns:\n",
        "        torch.Tensor: The one-hot encoded tensor, with shape (sequence_length, 4).\n",
        "    \"\"\"\n",
        "    num_seq = []\n",
        "    for nucleotide in seq:\n",
        "        num_seq.append(NUCLEOTIDES[nucleotide])\n",
        "    return (F.one_hot(torch.tensor(num_seq).to(torch.int64), num_classes=len(NUCLEOTIDES))).T\n",
        "\n",
        "class PeaksDataset(Dataset):\n",
        "    \"\"\"\n",
        "    PeaksDataset is a PyTorch dataset for representing sequences of nucleotides. It takes a DataFrame\n",
        "    as input, one-hot encodes the raw sequences, and accumulates them into a list of tensors.\n",
        "\n",
        "    Args:\n",
        "        df (pandas.DataFrame): The DataFrame containing the raw sequences.\n",
        "\n",
        "    Inputs:\n",
        "        - idx (int): The index of the sequence to return.\n",
        "\n",
        "    Outputs:\n",
        "        - x (torch.Tensor): The one-hot encoded sequence, with shape (1, sequence_length, 4).\n",
        "        - y (int): The target label, which is always set to 1 in this dataset.\n",
        "    \"\"\"\n",
        "    def __init__(self, df):\n",
        "        self.sequences = []\n",
        "        for curr_seq in df['raw_sequence'].tolist():\n",
        "            if len(curr_seq) != 200:\n",
        "                mid_index = len(curr_seq)//2\n",
        "                curr_seq = curr_seq[mid_index-100:mid_index+100]\n",
        "            one_hot_representation = one_hot_encode_sequences(curr_seq)\n",
        "            if one_hot_representation is not None:\n",
        "                one_hot_representation = one_hot_representation[None, :, :]\n",
        "                self.sequences.append(one_hot_representation)\n",
        "\n",
        "    def __len__(self):\n",
        "        return len(self.sequences)\n",
        "    \n",
        "    def __getitem__(self, idx):\n",
        "        return self.sequences[idx], 1"
      ]
    },
    {
      "cell_type": "markdown",
      "source": [
        "# Data import and preperation"
      ],
      "metadata": {
        "id": "7dSGTtsZSEVT"
      }
    },
    {
      "cell_type": "code",
      "source": [
        "!curl -L -o train_all_classifier_WM20220916.csv.gz \"https://www.dropbox.com/s/db6up7c0d4jwdp4/train_all_classifier_WM20220916.csv.gz?dl=2\"\n",
        "!gunzip train_all_classifier_WM20220916.csv.gz\n",
        "\n",
        "\n",
        "df = pd.read_csv('train_all_classifier_WM20220916.csv', delimiter='\\t')\n",
        "train_df = df[(df['seqname'] != 'chr3') & (df['seqname'] != 'chr15') & (df['seqname'] != 'chr7')]\n",
        "test_df = df[(df['seqname'] == 'chr3') | (df['seqname'] == 'chr15') | (df['seqname'] == 'chr7')]\n",
        "\n",
        "peaks_data = PeaksDataset(train_df)\n",
        "peaks_dl = DataLoader(peaks_data, batch_size=BATCH_SIZE, shuffle=True)"
      ],
      "metadata": {
        "colab": {
          "base_uri": "https://localhost:8080/"
        },
        "id": "aM0ZGauFSFVg",
        "outputId": "ffb0310d-086b-4b3e-cbdf-58bae57bec02"
      },
      "execution_count": 8,
      "outputs": [
        {
          "output_type": "stream",
          "name": "stdout",
          "text": [
            "  % Total    % Received % Xferd  Average Speed   Time    Time     Time  Current\n",
            "                                 Dload  Upload   Total   Spent    Left  Speed\n",
            "100   146    0   146    0     0    470      0 --:--:-- --:--:-- --:--:--   470\n",
            "100   340  100   340    0     0    485      0 --:--:-- --:--:-- --:--:--     0\n",
            "100   534    0   534    0     0    440      0 --:--:--  0:00:01 --:--:--   440\n",
            "100 21.3M  100 21.3M    0     0  12.3M      0  0:00:01  0:00:01 --:--:--  172M\n"
          ]
        }
      ]
    },
    {
      "cell_type": "code",
      "source": [
        "test_data = PeaksDataset(test_df)\n",
        "test_dl = DataLoader(test_data, batch_size=BATCH_SIZE)"
      ],
      "metadata": {
        "id": "2H9ceUu7Sed3"
      },
      "execution_count": 9,
      "outputs": []
    },
    {
      "cell_type": "markdown",
      "source": [
        "# VQ-VAE architecture\n",
        "\n",
        "taken from # https://github.com/zalandoresearch/pytorch-vq-vae\n"
      ],
      "metadata": {
        "id": "gX9KOZbSSgUv"
      }
    },
    {
      "cell_type": "markdown",
      "metadata": {
        "id": "h3kFO47UWREM"
      },
      "source": [
        "Vector Quantised-Variational AutoEncoder (VQ-VAE), differs from VAEs in two key ways: the encoder network outputs discrete, rather than continuous, codes; and the prior is learnt rather than static. \n",
        "\n",
        "In order to learn a discrete latent representation, ideas from vector quantisation (VQ) are used. Using the VQ method allows the model to circumvent issues of \"posterior collapse\" -- where the latents are ignored when they are paired with a powerful autoregressive decoder -- typically observed in the VAE framework."
      ]
    },
    {
      "cell_type": "code",
      "execution_count": 10,
      "metadata": {
        "id": "M8x8xI62W539"
      },
      "outputs": [],
      "source": [
        "class VectorQuantizer(nn.Module):\n",
        "    \"\"\"\n",
        "    An implementation of a vector quantizer, as described in 'Neural Discrete Representation Learning'\n",
        "    (https://arxiv.org/abs/1711.00937) by van den Oord et al.\n",
        "\n",
        "    This module can be used as a layer in a neural network to quantize the activations of the previous\n",
        "    layer. During training, the quantization loss is backpropagated through this module, and the\n",
        "    quantization vectors are learned.\n",
        "\n",
        "    Args:\n",
        "        num_embeddings (int): The number of quantization vectors, i.e. the number of possible values\n",
        "            that each activation can take.\n",
        "        embedding_dim (int): The length of each quantization vector. This should match the number of\n",
        "            channels of the activations that will be quantized.\n",
        "        commitment_cost (float): The weighting factor that determines the trade-off between the\n",
        "            quantization loss and the commitment loss. Larger values means that the quantization vectors\n",
        "            will be pushed closer to their \"optimal\" values, but at the expense of a higher quantization\n",
        "            loss.\n",
        "\n",
        "    Inputs:\n",
        "        - inputs (torch.Tensor): The activations to be quantized, with shape (batch_size, channels,\n",
        "            height, width).\n",
        "\n",
        "    Outputs:\n",
        "        - loss (torch.Tensor): The quantization loss, a scalar value.\n",
        "        - quantized (torch.Tensor): The quantized activations, with the same shape as the inputs.\n",
        "        - perplexity (torch.Tensor): The perplexity of the encodings, a scalar value.\n",
        "        - encodings (torch.Tensor): The encodings for the inputs, with shape (batch_size,\n",
        "            num_embeddings).\n",
        "        - encoding_indices (torch.Tensor): The indices of the encodings in the quantization vector\n",
        "            space, with shape (batch_size, 1).\n",
        "    \"\"\"\n",
        "    def __init__(self, num_embeddings, embedding_dim, commitment_cost):\n",
        "        super(VectorQuantizer, self).__init__()\n",
        "        \n",
        "        self._embedding_dim = embedding_dim\n",
        "        self._num_embeddings = num_embeddings\n",
        "        \n",
        "        self._embedding = nn.Embedding(self._num_embeddings, self._embedding_dim)\n",
        "        self._embedding.weight.data.uniform_(-1/self._num_embeddings, 1/self._num_embeddings)\n",
        "        self._commitment_cost = commitment_cost\n",
        "\n",
        "    def forward(self, inputs):\n",
        "        # convert inputs from BCHW -> BHWC\n",
        "        inputs = inputs.permute(0, 2, 3, 1).contiguous()\n",
        "        input_shape = inputs.shape\n",
        "        \n",
        "        # Flatten input\n",
        "        flat_input = inputs.view(-1, self._embedding_dim)\n",
        "        \n",
        "        # Calculate distances\n",
        "        distances = (torch.sum(flat_input**2, dim=1, keepdim=True) \n",
        "                    + torch.sum(self._embedding.weight**2, dim=1)\n",
        "                    - 2 * torch.matmul(flat_input, self._embedding.weight.t()))\n",
        "            \n",
        "        # Encoding\n",
        "        encoding_indices = torch.argmin(distances, dim=1).unsqueeze(1)\n",
        "        encodings = torch.zeros(encoding_indices.shape[0], self._num_embeddings, device=inputs.device)\n",
        "        encodings.scatter_(1, encoding_indices, 1)\n",
        "        \n",
        "        # Quantize and unflatten\n",
        "        quantized = torch.matmul(encodings, self._embedding.weight).view(input_shape)\n",
        "        \n",
        "        # Loss\n",
        "        e_latent_loss = F.mse_loss(quantized.detach(), inputs)\n",
        "        q_latent_loss = F.mse_loss(quantized, inputs.detach())\n",
        "        loss = q_latent_loss + self._commitment_cost * e_latent_loss\n",
        "        \n",
        "        quantized = inputs + (quantized - inputs).detach()\n",
        "        avg_probs = torch.mean(encodings, dim=0)\n",
        "        perplexity = torch.exp(-torch.sum(avg_probs * torch.log(avg_probs + 1e-10)))\n",
        "        \n",
        "        # convert quantized from BHWC -> BCHW\n",
        "        return loss, quantized.permute(0, 3, 1, 2).contiguous(), perplexity, encodings, encoding_indices"
      ]
    },
    {
      "cell_type": "code",
      "execution_count": 11,
      "metadata": {
        "id": "bZjdv6CHW8LN"
      },
      "outputs": [],
      "source": [
        "class VectorQuantizerEMA(nn.Module):\n",
        "    \"\"\"\n",
        "    An implementation of a vector quantizer, with an exponential moving average (EMA) update rule\n",
        "    for the quantization vectors. This module can be used as a layer in a neural network to quantize\n",
        "    the activations of the previous layer. During training, the quantization loss is backpropagated\n",
        "    through this module, and the quantization vectors are learned using the EMA update rule.\n",
        "\n",
        "    Args:\n",
        "        num_embeddings (int): The number of quantization vectors, i.e. the number of possible values\n",
        "            that each activation can take.\n",
        "        embedding_dim (int): The length of each quantization vector. This should match the number of\n",
        "            channels of the activations that will be quantized.\n",
        "        commitment_cost (float): The weighting factor that determines the trade-off between the\n",
        "            quantization loss and the commitment loss. Larger values means that the quantization vectors\n",
        "            will be pushed closer to their \"optimal\" values, but at the expense of a higher quantization\n",
        "            loss.\n",
        "        decay (float): The decay rate for the exponential moving average.\n",
        "        epsilon (float): A small constant value added to the cluster size to avoid division by zero.\n",
        "\n",
        "    Inputs:\n",
        "        - inputs (torch.Tensor): The activations to be quantized, with shape (batch_size, channels,\n",
        "            height, width).\n",
        "\n",
        "    Outputs:\n",
        "        - loss (torch.Tensor): The quantization loss, a scalar value.\n",
        "        - quantized (torch.Tensor): The quantized activations, with the same shape as the inputs.\n",
        "        - perplexity (torch.Tensor): The perplexity of the encodings, a scalar value.\n",
        "        - encodings (torch.Tensor): The encodings for the inputs, with shape (batch_size,\n",
        "            num_embeddings).\n",
        "        - encoding_indices (torch.Tensor): The indices of the encodings in the quantization vector\n",
        "            space, with shape (batch_size, 1).\n",
        "    \"\"\"\n",
        "    \n",
        "    def __init__(self, num_embeddings, embedding_dim, commitment_cost, decay, epsilon=1e-5):\n",
        "        super(VectorQuantizerEMA, self).__init__()\n",
        "        \n",
        "        self._embedding_dim = embedding_dim\n",
        "        self._num_embeddings = num_embeddings\n",
        "        \n",
        "        self._embedding = nn.Embedding(self._num_embeddings, self._embedding_dim)\n",
        "        self._embedding.weight.data.normal_()\n",
        "        self._commitment_cost = commitment_cost\n",
        "        \n",
        "        self.register_buffer('_ema_cluster_size', torch.zeros(num_embeddings))\n",
        "        self._ema_w = nn.Parameter(torch.Tensor(num_embeddings, self._embedding_dim))\n",
        "        self._ema_w.data.normal_()\n",
        "        \n",
        "        self._decay = decay\n",
        "        self._epsilon = epsilon\n",
        "\n",
        "    def forward(self, inputs):\n",
        "        # convert inputs from BCHW -> BHWC\n",
        "        inputs = inputs.permute(0, 2, 3, 1).contiguous()\n",
        "        input_shape = inputs.shape\n",
        "        \n",
        "        # Flatten input\n",
        "        flat_input = inputs.view(-1, self._embedding_dim)\n",
        "        \n",
        "        # Calculate distances\n",
        "        distances = (torch.sum(flat_input**2, dim=1, keepdim=True) \n",
        "                    + torch.sum(self._embedding.weight**2, dim=1)\n",
        "                    - 2 * torch.matmul(flat_input, self._embedding.weight.t()))\n",
        "            \n",
        "        # Encoding\n",
        "        encoding_indices = torch.argmin(distances, dim=1).unsqueeze(1)\n",
        "        encodings = torch.zeros(encoding_indices.shape[0], self._num_embeddings, device=inputs.device)\n",
        "        encodings.scatter_(1, encoding_indices, 1)\n",
        "        \n",
        "        # Quantize and unflatten\n",
        "        quantized = torch.matmul(encodings, self._embedding.weight).view(input_shape)\n",
        "        \n",
        "        # Use EMA to update the embedding vectors\n",
        "        if self.training:\n",
        "            self._ema_cluster_size = self._ema_cluster_size * self._decay + \\\n",
        "                                     (1 - self._decay) * torch.sum(encodings, 0)\n",
        "            \n",
        "            # Laplace smoothing of the cluster size\n",
        "            n = torch.sum(self._ema_cluster_size.data)\n",
        "            self._ema_cluster_size = (\n",
        "                (self._ema_cluster_size + self._epsilon)\n",
        "                / (n + self._num_embeddings * self._epsilon) * n)\n",
        "            \n",
        "            dw = torch.matmul(encodings.t(), flat_input)\n",
        "            self._ema_w = nn.Parameter(self._ema_w * self._decay + (1 - self._decay) * dw)\n",
        "            \n",
        "            self._embedding.weight = nn.Parameter(self._ema_w / self._ema_cluster_size.unsqueeze(1))\n",
        "        \n",
        "        # Loss\n",
        "        e_latent_loss = F.mse_loss(quantized.detach(), inputs)\n",
        "        loss = self._commitment_cost * e_latent_loss\n",
        "        \n",
        "        # Straight Through Estimator\n",
        "        quantized = inputs + (quantized - inputs).detach()\n",
        "        avg_probs = torch.mean(encodings, dim=0)\n",
        "        perplexity = torch.exp(-torch.sum(avg_probs * torch.log(avg_probs + 1e-10)))\n",
        "        \n",
        "        # convert quantized from BHWC -> BCHW\n",
        "        return loss, quantized.permute(0, 3, 1, 2).contiguous(), perplexity, encodings, encoding_indices"
      ]
    },
    {
      "cell_type": "code",
      "execution_count": 12,
      "metadata": {
        "id": "4fT8YNJaW9jj"
      },
      "outputs": [],
      "source": [
        "class Residual(nn.Module):\n",
        "    \"\"\"\n",
        "    A residual block, as described in the paper 'Deep Residual Learning for Image Recognition'\n",
        "    (https://arxiv.org/abs/1512.03385) by He et al. This block consists of two convolutional layers\n",
        "    with ReLU activation, followed by a residual connection that adds the input to the output of the\n",
        "    block.\n",
        "\n",
        "    Args:\n",
        "        in_channels (int): The number of channels in the input.\n",
        "        num_hiddens (int): The number of channels in the output.\n",
        "        num_residual_hiddens (int): The number of channels in the intermediate outputs of the block.\n",
        "\n",
        "    Inputs:\n",
        "        - x (torch.Tensor): The input tensor with shape (batch_size, in_channels, height, width).\n",
        "\n",
        "    Outputs:\n",
        "        - y (torch.Tensor): The output tensor with shape (batch_size, num_hiddens, height, width).\n",
        "    \"\"\"\n",
        "    def __init__(self, in_channels, num_hiddens, num_residual_hiddens):\n",
        "        super(Residual, self).__init__()\n",
        "        self._block = nn.Sequential(\n",
        "            nn.ReLU(True),\n",
        "            nn.Conv2d(in_channels=in_channels,\n",
        "                      out_channels=num_residual_hiddens,\n",
        "                      kernel_size=3, stride=1, padding=1, bias=False),\n",
        "            nn.ReLU(True),\n",
        "            nn.Conv2d(in_channels=num_residual_hiddens,\n",
        "                      out_channels=num_hiddens,\n",
        "                      kernel_size=1, stride=1, bias=False)\n",
        "        )\n",
        "    \n",
        "    def forward(self, x):\n",
        "        return x + self._block(x)\n",
        "\n",
        "\n",
        "class ResidualStack(nn.Module):\n",
        "    \"\"\"\n",
        "    A stack of residual blocks, as described in the paper 'Deep Residual Learning for Image\n",
        "    Recognition' (https://arxiv.org/abs/1512.03385) by He et al. This stack consists of a specified\n",
        "    number of residual blocks, each with the same number of channels in the input and output, and the\n",
        "    same number of channels in the intermediate outputs.\n",
        "\n",
        "    Args:\n",
        "        in_channels (int): The number of channels in the input to the stack.\n",
        "        num_hiddens (int): The number of channels in the output from the stack.\n",
        "        num_residual_layers (int): The number of residual blocks in the stack.\n",
        "        num_residual_hiddens (int): The number of channels in the intermediate outputs of each block.\n",
        "\n",
        "    Inputs:\n",
        "        - x (torch.Tensor): The input tensor with shape (batch_size, in_channels, height, width).\n",
        "\n",
        "    Outputs:\n",
        "        - y (torch.Tensor): The output tensor with shape (batch_size, num_hiddens, height, width).\n",
        "    \"\"\"\n",
        "    def __init__(self, in_channels, num_hiddens, num_residual_layers, num_residual_hiddens):\n",
        "        super(ResidualStack, self).__init__()\n",
        "        self._num_residual_layers = num_residual_layers\n",
        "        self._layers = nn.ModuleList([Residual(in_channels, num_hiddens, num_residual_hiddens)\n",
        "                             for _ in range(self._num_residual_layers)])\n",
        "\n",
        "    def forward(self, x):\n",
        "        for i in range(self._num_residual_layers):\n",
        "            x = self._layers[i](x)\n",
        "        return F.relu(x)"
      ]
    },
    {
      "cell_type": "code",
      "execution_count": 13,
      "metadata": {
        "id": "eCL5uXjdW-4A"
      },
      "outputs": [],
      "source": [
        "class Encoder(nn.Module):\n",
        "    def __init__(self, in_channels, num_hiddens, num_residual_layers, num_residual_hiddens):\n",
        "        super(Encoder, self).__init__()\n",
        "\n",
        "        self._conv_1 = nn.Conv2d(in_channels=in_channels,\n",
        "                                 out_channels=num_hiddens//2,\n",
        "                                 kernel_size=(4, 10),\n",
        "                                 stride=2, padding=(1, 4))\n",
        "        self._conv_2 = nn.Conv2d(in_channels=num_hiddens//2,\n",
        "                                 out_channels=num_hiddens,\n",
        "                                 kernel_size=4,\n",
        "                                 stride=2, padding=1)\n",
        "        self._conv_3 = nn.Conv2d(in_channels=num_hiddens,\n",
        "                                 out_channels=num_hiddens,\n",
        "                                 kernel_size=3,\n",
        "                                 stride=1, padding=1)\n",
        "        self._residual_stack = ResidualStack(in_channels=num_hiddens,\n",
        "                                             num_hiddens=num_hiddens,\n",
        "                                             num_residual_layers=num_residual_layers,\n",
        "                                             num_residual_hiddens=num_residual_hiddens)\n",
        "\n",
        "    def forward(self, inputs):\n",
        "        x = self._conv_1(inputs)\n",
        "        x = F.relu(x)\n",
        "        x = self._conv_2(x)\n",
        "        x = F.relu(x)\n",
        "        \n",
        "        x = self._conv_3(x)\n",
        "        return self._residual_stack(x)"
      ]
    },
    {
      "cell_type": "code",
      "execution_count": 14,
      "metadata": {
        "id": "A4NGCBnMXAR0"
      },
      "outputs": [],
      "source": [
        "class Decoder(nn.Module):\n",
        "    \"\"\"\n",
        "    Decoder is a PyTorch module that takes the quantized latent representations and decodes them\n",
        "    into the original input space. It consists of a sequence of convolutional and deconvolutional layers\n",
        "    followed by a residual stack.\n",
        "\n",
        "    Args:\n",
        "        in_channels (int): The number of channels in the input tensor.\n",
        "        num_hiddens (int): The number of channels in the hidden layers of the decoder.\n",
        "        num_residual_layers (int): The number of residual layers in the decoder.\n",
        "        num_residual_hiddens (int): The number of channels in the intermediate outputs of the residual\n",
        "            blocks in the decoder.\n",
        "\n",
        "    Inputs:\n",
        "        - inputs (torch.Tensor): The input tensor with shape (B, in_channels, H, W), where B is the\n",
        "            batch size, in_channels is the number of channels in the input, and H and W are the height\n",
        "            and width of the tensor.\n",
        "\n",
        "    Outputs:\n",
        "        - x (torch.Tensor): The output tensor with shape (B, 1, H', W'), where H' and W' are the height\n",
        "            and width of the decoded tensor, respectively.\n",
        "    \"\"\"\n",
        "    def __init__(self, in_channels, num_hiddens, num_residual_layers, num_residual_hiddens):\n",
        "        super(Decoder, self).__init__()\n",
        "        \n",
        "        self._conv_1 = nn.Conv2d(in_channels=in_channels,\n",
        "                                 out_channels=num_hiddens,\n",
        "                                 kernel_size=3, \n",
        "                                 stride=1, padding=1)\n",
        "        \n",
        "        self._residual_stack = ResidualStack(in_channels=num_hiddens,\n",
        "                                             num_hiddens=num_hiddens,\n",
        "                                             num_residual_layers=num_residual_layers,\n",
        "                                             num_residual_hiddens=num_residual_hiddens)\n",
        "        \n",
        "        self._conv_trans_1 = nn.ConvTranspose2d(in_channels=num_hiddens, \n",
        "                                                out_channels=num_hiddens//2,\n",
        "                                                kernel_size=4, \n",
        "                                                stride=2, padding=1)\n",
        "        \n",
        "        self._conv_trans_2 = nn.ConvTranspose2d(in_channels=num_hiddens//2, \n",
        "                                                out_channels=1,\n",
        "                                                kernel_size=(2, 12), \n",
        "                                                stride=2, padding=(0, 5))\n",
        "\n",
        "    def forward(self, inputs):\n",
        "        x = self._conv_1(inputs)\n",
        "        \n",
        "        x = self._residual_stack(x)\n",
        "        \n",
        "        x = self._conv_trans_1(x)\n",
        "        x = F.relu(x)\n",
        "        \n",
        "        return self._conv_trans_2(x)"
      ]
    },
    {
      "cell_type": "code",
      "execution_count": 15,
      "metadata": {
        "id": "aLmbEXplXhmU"
      },
      "outputs": [],
      "source": [
        "class Model(nn.Module):\n",
        "    \"\"\"\n",
        "    Model is a PyTorch module for the VQ-VAE model described in the paper 'Neural Discrete\n",
        "    Representation Learning' (https://arxiv.org/abs/1711.00937) by van den Oord et al. It consists of\n",
        "    an encoder, a vector quantization module, and a decoder. The vector quantization module can be\n",
        "    either a VectorQuantizer or a VectorQuantizerEMA, depending on the value of the decay argument.\n",
        "\n",
        "    Args:\n",
        "        num_hiddens (int): The number of channels in the hidden layers of the encoder and decoder.\n",
        "        num_residual_layers (int): The number of residual layers in the encoder and decoder.\n",
        "        num_residual_hiddens (int): The number of channels in the intermediate outputs of the residual\n",
        "            blocks in the encoder and decoder.\n",
        "        num_embeddings (int): The number of embeddings in the vector quantization module.\n",
        "        embedding_dim (int): The dimension of the embedding vectors in the vector quantization module.\n",
        "        commitment_cost (float): The commitment cost, which controls the balance between reconstruction\n",
        "            loss and the commitment to the learned codebook.\n",
        "        decay (float, optional): The decay rate of the moving average used in the vector quantization\n",
        "            module. If 0, then the vector quantization module is not EMA-enabled.\n",
        "\n",
        "    Inputs:\n",
        "        - x (torch.Tensor): The input tensor\n",
        "    \"\"\"\n",
        "    def __init__(self, num_hiddens, num_residual_layers, num_residual_hiddens, \n",
        "                 num_embeddings, embedding_dim, commitment_cost, decay=0):\n",
        "        super(Model, self).__init__()\n",
        "        \n",
        "        self._encoder = Encoder(1, num_hiddens,\n",
        "                                num_residual_layers, \n",
        "                                num_residual_hiddens)\n",
        "        self._pre_vq_conv = nn.Conv2d(in_channels=num_hiddens, \n",
        "                                      out_channels=embedding_dim,\n",
        "                                      kernel_size=1, \n",
        "                                      stride=1)\n",
        "        if decay > 0.0:\n",
        "            self._vq_vae = VectorQuantizerEMA(num_embeddings, embedding_dim, \n",
        "                                              commitment_cost, decay)\n",
        "        else:\n",
        "            self._vq_vae = VectorQuantizer(num_embeddings, embedding_dim,\n",
        "                                           commitment_cost)\n",
        "        self._decoder = Decoder(embedding_dim,\n",
        "                                num_hiddens, \n",
        "                                num_residual_layers, \n",
        "                                num_residual_hiddens)\n",
        "\n",
        "    def forward(self, x):\n",
        "        z = self._encoder(x)\n",
        "        z = self._pre_vq_conv(z)\n",
        "        loss, quantized, perplexity, _, encoding_index = self._vq_vae(z)\n",
        "        x_recon = self._decoder(quantized)\n",
        "        return loss, x_recon, perplexity, quantized, encoding_index"
      ]
    },
    {
      "cell_type": "markdown",
      "source": [
        "# VQ-VAE training metric functions and evaluation"
      ],
      "metadata": {
        "id": "gibUcNi9SrtD"
      }
    },
    {
      "cell_type": "code",
      "execution_count": 16,
      "metadata": {
        "id": "7AKmwb59WRES"
      },
      "outputs": [],
      "source": [
        "device = 'cuda'\n",
        "model = Model(num_hiddens, num_residual_layers, num_residual_hiddens,\n",
        "              num_embeddings, embedding_dim, \n",
        "              commitment_cost, decay)\n",
        "optimizer = optim.Adam(model.parameters(), lr=learning_rate)"
      ]
    },
    {
      "cell_type": "code",
      "execution_count": 17,
      "metadata": {
        "colab": {
          "base_uri": "https://localhost:8080/",
          "height": 1000
        },
        "id": "5xE1a2ewZ7A0",
        "outputId": "73499037-4101-41bd-f047-735dfff4cfd5"
      },
      "outputs": [
        {
          "output_type": "stream",
          "name": "stdout",
          "text": [
            "100 iterations\n",
            "loss: 0.188\n",
            "perplexity: 1.000\n",
            "\n",
            "200 iterations\n",
            "loss: 0.197\n",
            "perplexity: 1.000\n",
            "\n",
            "300 iterations\n",
            "loss: 0.198\n",
            "perplexity: 1.000\n",
            "\n",
            "400 iterations\n",
            "loss: 0.199\n",
            "perplexity: 1.000\n",
            "\n",
            "500 iterations\n",
            "loss: 0.202\n",
            "perplexity: 1.000\n",
            "\n",
            "600 iterations\n",
            "loss: 0.204\n",
            "perplexity: 1.000\n",
            "\n",
            "700 iterations\n",
            "loss: 0.205\n",
            "perplexity: 1.000\n",
            "\n",
            "800 iterations\n",
            "loss: 0.176\n",
            "perplexity: 2.015\n",
            "\n",
            "900 iterations\n",
            "loss: 0.142\n",
            "perplexity: 13.907\n",
            "\n",
            "1000 iterations\n",
            "loss: 0.112\n",
            "perplexity: 76.372\n",
            "\n",
            "100 iterations\n",
            "loss: 0.091\n",
            "perplexity: 172.928\n",
            "\n",
            "200 iterations\n",
            "loss: 0.075\n",
            "perplexity: 210.090\n",
            "\n",
            "300 iterations\n",
            "loss: 0.066\n",
            "perplexity: 218.639\n",
            "\n",
            "400 iterations\n",
            "loss: 0.059\n",
            "perplexity: 225.343\n",
            "\n",
            "500 iterations\n",
            "loss: 0.055\n",
            "perplexity: 228.754\n",
            "\n",
            "600 iterations\n",
            "loss: 0.051\n",
            "perplexity: 230.365\n",
            "\n",
            "700 iterations\n",
            "loss: 0.048\n",
            "perplexity: 233.452\n",
            "\n",
            "800 iterations\n",
            "loss: 0.045\n",
            "perplexity: 236.132\n",
            "\n",
            "900 iterations\n",
            "loss: 0.045\n",
            "perplexity: 237.592\n",
            "\n",
            "1000 iterations\n",
            "loss: 0.044\n",
            "perplexity: 239.346\n",
            "\n",
            "100 iterations\n",
            "loss: 0.045\n",
            "perplexity: 241.640\n",
            "\n",
            "200 iterations\n",
            "loss: 0.044\n",
            "perplexity: 242.182\n",
            "\n",
            "300 iterations\n",
            "loss: 0.045\n",
            "perplexity: 243.060\n",
            "\n",
            "400 iterations\n",
            "loss: 0.045\n",
            "perplexity: 243.180\n",
            "\n",
            "500 iterations\n",
            "loss: 0.047\n",
            "perplexity: 242.944\n",
            "\n",
            "600 iterations\n",
            "loss: 0.046\n",
            "perplexity: 243.245\n",
            "\n",
            "700 iterations\n",
            "loss: 0.045\n",
            "perplexity: 243.573\n",
            "\n",
            "800 iterations\n",
            "loss: 0.048\n",
            "perplexity: 244.532\n",
            "\n",
            "900 iterations\n",
            "loss: 0.047\n",
            "perplexity: 244.701\n",
            "\n",
            "1000 iterations\n",
            "loss: 0.048\n",
            "perplexity: 244.968\n",
            "\n",
            "100 iterations\n",
            "loss: 0.047\n",
            "perplexity: 244.483\n",
            "\n",
            "200 iterations\n",
            "loss: 0.047\n",
            "perplexity: 244.146\n",
            "\n",
            "300 iterations\n",
            "loss: 0.047\n",
            "perplexity: 244.367\n",
            "\n",
            "400 iterations\n",
            "loss: 0.049\n",
            "perplexity: 244.892\n",
            "\n"
          ]
        },
        {
          "output_type": "error",
          "ename": "KeyboardInterrupt",
          "evalue": "ignored",
          "traceback": [
            "\u001b[0;31m---------------------------------------------------------------------------\u001b[0m",
            "\u001b[0;31mKeyboardInterrupt\u001b[0m                         Traceback (most recent call last)",
            "\u001b[0;32m<ipython-input-17-f32b6b9ca6c7>\u001b[0m in \u001b[0;36m<module>\u001b[0;34m\u001b[0m\n\u001b[1;32m     12\u001b[0m         \u001b[0mrecon_error\u001b[0m \u001b[0;34m=\u001b[0m \u001b[0mF\u001b[0m\u001b[0;34m.\u001b[0m\u001b[0mmse_loss\u001b[0m\u001b[0;34m(\u001b[0m\u001b[0mdata_recon\u001b[0m\u001b[0;34m,\u001b[0m \u001b[0mdata\u001b[0m\u001b[0;34m)\u001b[0m \u001b[0;34m/\u001b[0m \u001b[0;36m1\u001b[0m\u001b[0;34m\u001b[0m\u001b[0;34m\u001b[0m\u001b[0m\n\u001b[1;32m     13\u001b[0m         \u001b[0mloss\u001b[0m \u001b[0;34m=\u001b[0m \u001b[0mrecon_error\u001b[0m \u001b[0;34m+\u001b[0m \u001b[0mvq_loss\u001b[0m\u001b[0;34m\u001b[0m\u001b[0;34m\u001b[0m\u001b[0m\n\u001b[0;32m---> 14\u001b[0;31m         \u001b[0mloss\u001b[0m\u001b[0;34m.\u001b[0m\u001b[0mbackward\u001b[0m\u001b[0;34m(\u001b[0m\u001b[0;34m)\u001b[0m\u001b[0;34m\u001b[0m\u001b[0;34m\u001b[0m\u001b[0m\n\u001b[0m\u001b[1;32m     15\u001b[0m \u001b[0;34m\u001b[0m\u001b[0m\n\u001b[1;32m     16\u001b[0m         \u001b[0moptimizer\u001b[0m\u001b[0;34m.\u001b[0m\u001b[0mstep\u001b[0m\u001b[0;34m(\u001b[0m\u001b[0;34m)\u001b[0m\u001b[0;34m\u001b[0m\u001b[0;34m\u001b[0m\u001b[0m\n",
            "\u001b[0;32m/usr/local/lib/python3.8/dist-packages/torch/_tensor.py\u001b[0m in \u001b[0;36mbackward\u001b[0;34m(self, gradient, retain_graph, create_graph, inputs)\u001b[0m\n\u001b[1;32m    485\u001b[0m                 \u001b[0minputs\u001b[0m\u001b[0;34m=\u001b[0m\u001b[0minputs\u001b[0m\u001b[0;34m,\u001b[0m\u001b[0;34m\u001b[0m\u001b[0;34m\u001b[0m\u001b[0m\n\u001b[1;32m    486\u001b[0m             )\n\u001b[0;32m--> 487\u001b[0;31m         torch.autograd.backward(\n\u001b[0m\u001b[1;32m    488\u001b[0m             \u001b[0mself\u001b[0m\u001b[0;34m,\u001b[0m \u001b[0mgradient\u001b[0m\u001b[0;34m,\u001b[0m \u001b[0mretain_graph\u001b[0m\u001b[0;34m,\u001b[0m \u001b[0mcreate_graph\u001b[0m\u001b[0;34m,\u001b[0m \u001b[0minputs\u001b[0m\u001b[0;34m=\u001b[0m\u001b[0minputs\u001b[0m\u001b[0;34m\u001b[0m\u001b[0;34m\u001b[0m\u001b[0m\n\u001b[1;32m    489\u001b[0m         )\n",
            "\u001b[0;32m/usr/local/lib/python3.8/dist-packages/torch/autograd/__init__.py\u001b[0m in \u001b[0;36mbackward\u001b[0;34m(tensors, grad_tensors, retain_graph, create_graph, grad_variables, inputs)\u001b[0m\n\u001b[1;32m    195\u001b[0m     \u001b[0;31m# some Python versions print out the first line of a multi-line function\u001b[0m\u001b[0;34m\u001b[0m\u001b[0;34m\u001b[0m\u001b[0;34m\u001b[0m\u001b[0m\n\u001b[1;32m    196\u001b[0m     \u001b[0;31m# calls in the traceback and some print out the last line\u001b[0m\u001b[0;34m\u001b[0m\u001b[0;34m\u001b[0m\u001b[0;34m\u001b[0m\u001b[0m\n\u001b[0;32m--> 197\u001b[0;31m     Variable._execution_engine.run_backward(  # Calls into the C++ engine to run the backward pass\n\u001b[0m\u001b[1;32m    198\u001b[0m         \u001b[0mtensors\u001b[0m\u001b[0;34m,\u001b[0m \u001b[0mgrad_tensors_\u001b[0m\u001b[0;34m,\u001b[0m \u001b[0mretain_graph\u001b[0m\u001b[0;34m,\u001b[0m \u001b[0mcreate_graph\u001b[0m\u001b[0;34m,\u001b[0m \u001b[0minputs\u001b[0m\u001b[0;34m,\u001b[0m\u001b[0;34m\u001b[0m\u001b[0;34m\u001b[0m\u001b[0m\n\u001b[1;32m    199\u001b[0m         allow_unreachable=True, accumulate_grad=True)  # Calls into the C++ engine to run the backward pass\n",
            "\u001b[0;31mKeyboardInterrupt\u001b[0m: "
          ]
        }
      ],
      "source": [
        "# with adjusted kernel size to capture motifs\n",
        "import numpy as np\n",
        "train_res_recon_error = []\n",
        "train_res_perplexity = []\n",
        "\n",
        "for epoch in range(N_EPOCHS):\n",
        "    for i, (data, _) in enumerate(peaks_dl):\n",
        "        data = data.float()\n",
        "        optimizer.zero_grad()\n",
        "\n",
        "        vq_loss, data_recon, perplexity, hidden_quantized, encoding_index = model(data)\n",
        "        recon_error = F.mse_loss(data_recon, data) / 1\n",
        "        loss = recon_error + vq_loss\n",
        "        loss.backward()\n",
        "\n",
        "        optimizer.step()\n",
        "\n",
        "        train_res_recon_error.append(recon_error.item())\n",
        "        train_res_perplexity.append(perplexity.item())\n",
        "\n",
        "        if (i+1) % 100 == 0:\n",
        "            print('%d iterations' % (i+1))\n",
        "            print('loss: %.3f' % loss)\n",
        "            print('perplexity: %.3f' % np.mean(train_res_perplexity[-100:]))\n",
        "            print()"
      ]
    },
    {
      "cell_type": "markdown",
      "metadata": {
        "id": "M_CzG-zvWRES"
      },
      "source": [
        "Quantitative evaluation of the latent space. Visually we can also see up until the 3rd dimension"
      ]
    },
    {
      "cell_type": "markdown",
      "metadata": {
        "id": "nlJSeiZmWRES"
      },
      "source": [
        "a) **METRIC 1**, **METRIC 2** and  **METRIC 3**(recovery, partial recover and accuracy):"
      ]
    },
    {
      "cell_type": "code",
      "source": [
        "# Initialize variables to store the number of correct predictions and the total number of predictions made by the model\n",
        "\n",
        "# this variable counts the number of nucleotides that were correct across ALL of the motifs\n",
        "num_correct_predictions = 0\n",
        "# this variable only counts if we have predicted the whole motif correctly (all of the nucleotides given)\n",
        "num_correct_predictions_full = 0\n",
        "# this variable only counts if we have predicted the  motif correctly above the threshold RECOVERY_THRESHOLD (i.e. more nucleotides then specified by the threshold)\n",
        "num_correct_predictions_partially = 0\n",
        "# this variable holds all of the nucleotides\n",
        "num_total_predictions = 0\n",
        "# this variable holds all of the full motifs predictions\n",
        "num_total_predictions_full = 0\n",
        "# this variable holds all of the (one-hot-encoded) predictions\n",
        "whole_predictions_full = []\n",
        "\n",
        "\n",
        "# Iterate over the original validation data and unused variable in the test_dl variable\n",
        "for original_valid_data, _ in test_dl:\n",
        "    # Convert the original validation data to a float tensor\n",
        "    original_valid_data = original_valid_data.float()\n",
        "\n",
        "    # Apply the encoder and pre-VQ-convolution layers of the model to the original validation data\n",
        "    vq_output = model._pre_vq_conv(model._encoder(original_valid_data))\n",
        "\n",
        "    # Apply the VQ-VAE layers of the model to the VQ output and extract the quantized data\n",
        "    _, quantized_valid_data, _, _, _ = model._vq_vae(vq_output)\n",
        "\n",
        "    # Apply the decoder of the model to the quantized data to obtain the reconstructed data\n",
        "    reconstructed_valid_data = model._decoder(quantized_valid_data)\n",
        "\n",
        "    # Extract the ground truth labels from the original validation data\n",
        "    ground_truth = torch.argmax(original_valid_data, dim=2)\n",
        "\n",
        "    # Extract the predicted labels from the reconstructed data\n",
        "    prediction = torch.argmax(reconstructed_valid_data, dim=2)\n",
        "    whole_predictions_full.append(prediction)\n",
        "\n",
        "    # Iterate over the items in the batch of data\n",
        "    for i in range(original_valid_data.shape[0]):\n",
        "        # Increment the number of correct predictions if the predicted label for this item matches the ground truth label\n",
        "        num_correct_predictions += int((prediction[i][0] == ground_truth[i][0]).sum())\n",
        "        if int((prediction[i][0] == ground_truth[i][0]).sum())==200:\n",
        "          num_correct_predictions_full += 1\n",
        "        elif int((prediction[i][0] == ground_truth[i][0]).sum())>RECOVERY_THRESHOLD:\n",
        "          num_correct_predictions_partially += 1\n",
        "\n",
        "        # Increment the total number of predictions\n",
        "        num_total_predictions += 200\n",
        "        # Increment the total full number of predictions\n",
        "        num_total_predictions_full += 1\n"
      ],
      "metadata": {
        "id": "ZQ-d_1oFW5gP"
      },
      "execution_count": 18,
      "outputs": []
    },
    {
      "cell_type": "markdown",
      "source": [
        "Accuracy:"
      ],
      "metadata": {
        "id": "tosqJ7RKzAU4"
      }
    },
    {
      "cell_type": "code",
      "execution_count": 19,
      "metadata": {
        "id": "Jy8rja-hbpWg",
        "colab": {
          "base_uri": "https://localhost:8080/"
        },
        "outputId": "0070d652-a632-45c9-db7f-af7e701628ac"
      },
      "outputs": [
        {
          "output_type": "execute_result",
          "data": {
            "text/plain": [
              "0.9486175771175939"
            ]
          },
          "metadata": {},
          "execution_count": 19
        }
      ],
      "source": [
        "percentage_correct_predictions_nucleotides = num_correct_predictions/num_total_predictions\n",
        "percentage_correct_predictions_nucleotides"
      ]
    },
    {
      "cell_type": "markdown",
      "source": [
        "Recovery: "
      ],
      "metadata": {
        "id": "HGfaZ67ZzBos"
      }
    },
    {
      "cell_type": "code",
      "source": [
        "percentage_correct_predictions_full = num_correct_predictions_full/num_total_predictions_full\n",
        "percentage_correct_predictions_full"
      ],
      "metadata": {
        "colab": {
          "base_uri": "https://localhost:8080/"
        },
        "id": "aUb3vAauyc0R",
        "outputId": "164e77a8-9e35-47cf-97ef-0c2df81bef8c"
      },
      "execution_count": 20,
      "outputs": [
        {
          "output_type": "execute_result",
          "data": {
            "text/plain": [
              "0.0"
            ]
          },
          "metadata": {},
          "execution_count": 20
        }
      ]
    },
    {
      "cell_type": "markdown",
      "source": [
        "Partial recovery (the constant RECOVERY_THRESHOLD number of nucleotides we need to recover to classify a motif as correctly recovered)"
      ],
      "metadata": {
        "id": "u1xSzk9SzBnZ"
      }
    },
    {
      "cell_type": "code",
      "source": [
        "percentage_correct_predictions_partially = num_correct_predictions_partially/num_total_predictions_full\n",
        "percentage_correct_predictions_partially"
      ],
      "metadata": {
        "colab": {
          "base_uri": "https://localhost:8080/"
        },
        "id": "SYu1cBgQzNGQ",
        "outputId": "956b1e6a-a7c6-46ea-cea9-700dc702a7f2"
      },
      "execution_count": 21,
      "outputs": [
        {
          "output_type": "execute_result",
          "data": {
            "text/plain": [
              "1.0"
            ]
          },
          "metadata": {},
          "execution_count": 21
        }
      ]
    },
    {
      "cell_type": "markdown",
      "metadata": {
        "id": "qSaihQDjWREU"
      },
      "source": [
        "c) **METRIC 4**, Seperation of the latent space with visuals. We know that per Cell Type there should be different distributions if learnt properly. Used three different methods here. First T-SNE visualisation, PCA to relatively rank the latent space and then plot them using UMAPs. PCA explains more then 0.96 of the variance with only 10 latent features. 0.5 of the variance is explained with 3.\n",
        "\n",
        "\n",
        "HOW TO INTERPRET THIS?\n",
        "\n",
        "If we plot in all 2 dimensions, and we see very little clusters (1 being the worst) while using the 1-2-3 most important (orthogonal and kernel projected) features, then we know that the algorithm most likely learned little"
      ]
    },
    {
      "cell_type": "code",
      "execution_count": 22,
      "metadata": {
        "id": "u776jqsAWREU"
      },
      "outputs": [],
      "source": [
        "def draw_umap(n_neighbors=15, min_dist=0.1, n_components=2, metric='euclidean', title=''):\n",
        "    \"\"\"\n",
        "    This functions depicts the seperation for 3 possible dimensions.\n",
        "    \"\"\"\n",
        "    \n",
        "    fit = umap.UMAP(\n",
        "        n_neighbors=n_neighbors,\n",
        "        min_dist=min_dist,\n",
        "        n_components=n_components,\n",
        "        metric=metric\n",
        "    )\n",
        "    u = fit.fit_transform(model._vq_vae._embedding.weight.data.cpu())\n",
        "    fig = plt.figure()\n",
        "    if n_components == 1:\n",
        "        ax = fig.add_subplot(111)\n",
        "        ax.scatter(u[:,0], range(len(u)))\n",
        "    if n_components == 2:\n",
        "        ax = fig.add_subplot(111)\n",
        "        ax.scatter(u[:,0], u[:,1])\n",
        "    if n_components == 3:\n",
        "        ax = fig.add_subplot(111, projection='3d')\n",
        "        ax.scatter(u[:,0], u[:,1], u[:,2], s=100)\n",
        "    plt.title(title, fontsize=18)"
      ]
    },
    {
      "cell_type": "code",
      "execution_count": 23,
      "metadata": {
        "id": "ndBbNF0pWREU",
        "colab": {
          "base_uri": "https://localhost:8080/",
          "height": 265
        },
        "outputId": "7be2f4e1-558a-4e70-ad9b-7970980cd788"
      },
      "outputs": [
        {
          "output_type": "display_data",
          "data": {
            "text/plain": [
              "<Figure size 432x288 with 1 Axes>"
            ],
            "image/png": "[encoded data removed]"
          },
          "metadata": {
            "needs_background": "light"
          }
        }
      ],
      "source": [
        "draw_umap(n_components=1)"
      ]
    },
    {
      "cell_type": "code",
      "execution_count": 24,
      "metadata": {
        "id": "aaDQeLFEWREU",
        "colab": {
          "base_uri": "https://localhost:8080/",
          "height": 265
        },
        "outputId": "312145df-6837-47ad-966f-f32520eef048"
      },
      "outputs": [
        {
          "output_type": "display_data",
          "data": {
            "text/plain": [
              "<Figure size 432x288 with 1 Axes>"
            ],
            "image/png": "[encoded data removed]"
          },
          "metadata": {
            "needs_background": "light"
          }
        }
      ],
      "source": [
        "draw_umap(n_components=2)"
      ]
    },
    {
      "cell_type": "markdown",
      "metadata": {
        "id": "4rYQxU5hWREU"
      },
      "source": [
        "d) **METRIC 5** Seperation of the latent space using low dimensional visuals, non-linear projection t-SNE. If we can see clear seperation in lower dimensional space, that means that latent variables are not bad. "
      ]
    },
    {
      "cell_type": "markdown",
      "metadata": {
        "id": "bWs5swoZWREV"
      },
      "source": [
        "Now we will apply t-SNE (t-Distributed Stochastic Neighbor Embedding) is nonlinear dimensionality reduction technique in which interrelated high dimensional data (usually hundreds or thousands of variables) is mapped into low-dimensional data (like 2 or 3 variables) while preserving the significant structure (relationship among the data points in different variables) of original high dimensional data.\n",
        "\n",
        "Note, we applied UMAP on the PCA projected space. For t-SNE we apply it on the raw data."
      ]
    },
    {
      "cell_type": "code",
      "execution_count": 25,
      "metadata": {
        "id": "2Q-1u-rCWREV",
        "colab": {
          "base_uri": "https://localhost:8080/",
          "height": 461
        },
        "outputId": "c549e1fc-125b-46eb-d28a-e6e6935241f0"
      },
      "outputs": [
        {
          "output_type": "stream",
          "name": "stderr",
          "text": [
            "/usr/local/lib/python3.8/dist-packages/sklearn/manifold/_t_sne.py:780: FutureWarning: The default initialization in TSNE will change from 'random' to 'pca' in 1.2.\n",
            "  warnings.warn(\n",
            "/usr/local/lib/python3.8/dist-packages/sklearn/manifold/_t_sne.py:790: FutureWarning: The default learning rate in TSNE will change from 200.0 to 'auto' in 1.2.\n",
            "  warnings.warn(\n",
            "WARNING:matplotlib.legend:No handles with labels found to put in legend.\n"
          ]
        },
        {
          "output_type": "display_data",
          "data": {
            "text/plain": [
              "<Figure size 648x432 with 1 Axes>"
            ],
            "image/png": "[encoded data removed]"
          },
          "metadata": {
            "needs_background": "light"
          }
        }
      ],
      "source": [
        "tsne = TSNE(n_components=2, random_state=0).fit_transform(model._vq_vae._embedding.weight.data.cpu())\n",
        "x, y = list(zip(*tsne))\n",
        "\n",
        "plt.figure(figsize=(9, 6))\n",
        "plt.scatter(x, y)\n",
        "plt.legend()\n",
        "plt.show()"
      ]
    },
    {
      "cell_type": "markdown",
      "metadata": {
        "id": "zY5Z6eMAWREV"
      },
      "source": [
        "e) **METRIC 6**, Comparing different lengths of motifs (7-9-11) to a standard DB using TomTom tool https://meme-suite.org/meme/tools/tomtom\n",
        "\n",
        "However, there TomTom is only available through R, hence I used gimmemotifs: https://gimmemotifs.readthedocs.io/en/master/reference.html#gimme-scan"
      ]
    },
    {
      "cell_type": "markdown",
      "metadata": {
        "id": "EiAxnO_BWREV"
      },
      "source": [
        "First we have to convert the one hot encoded sequences to the original raw motif sequence.\n",
        "\n",
        "**NOTE**\n",
        "\n",
        "Change the following variable to control the motif length.\n",
        "\n",
        "Be carefull, the smaller the number that we set, the more memory will be consumed and it will run longer."
      ]
    },
    {
      "cell_type": "code",
      "source": [
        "MOTIF_LENGTH=200"
      ],
      "metadata": {
        "id": "e2dGLZ0PMnGW"
      },
      "execution_count": 26,
      "outputs": []
    },
    {
      "cell_type": "markdown",
      "source": [
        "Here we reverse the one hot encoding of the predictions from VQ-VAE"
      ],
      "metadata": {
        "id": "Jt2Msox5Rlno"
      }
    },
    {
      "cell_type": "code",
      "execution_count": 27,
      "metadata": {
        "id": "9FRhujDVWREV"
      },
      "outputs": [],
      "source": [
        "df_raw_sequences=[]\n",
        "# iterate over all sequences\n",
        "for batch_prediction in whole_predictions_full:\n",
        "    for prediction in batch_prediction:\n",
        "      motif_holder=[]\n",
        "      for nucleotide in prediction[0]:\n",
        "        motif_holder.append(NUCLEOTIDES_REVERSED[nucleotide.item()])\n",
        "\n",
        "      df_raw_sequences.append(''.join(motif_holder))\n",
        "    "
      ]
    },
    {
      "cell_type": "markdown",
      "metadata": {
        "id": "Ccj70c-zWREV"
      },
      "source": [
        "Now we need to convert this list to either FASTA or bed and feed it to the gimme scan command in order to check occurances of motifs in jaspar vertebrates database"
      ]
    },
    {
      "cell_type": "code",
      "execution_count": 28,
      "metadata": {
        "id": "_w6H35D_WREV"
      },
      "outputs": [],
      "source": [
        "def save_motifs_to_fasta(motifs, fasta_file):\n",
        "    # Open the FASTA file in write mode\n",
        "    with open(fasta_file, 'w') as f:\n",
        "        # Iterate over the motifs\n",
        "        for i, motif in enumerate(motifs):\n",
        "          for j in range(200//MOTIF_LENGTH):\n",
        "            # Write the motif to the file\n",
        "            f.write(f'>motif_{i+1}_{j+1}\\n{motif[j*MOTIF_LENGTH:(j+1)*MOTIF_LENGTH]}\\n')\n",
        "\n",
        "\n",
        "save_motifs_to_fasta(df_raw_sequences, \"recoded_motifs_seqs.fasta\")"
      ]
    },
    {
      "cell_type": "code",
      "execution_count": 29,
      "metadata": {
        "id": "hgokDO9tWREW"
      },
      "outputs": [],
      "source": [
        "def motifs_from_fasta(fasta):\n",
        "    \"\"\"\n",
        "    Extract motifs from fasta.\n",
        "    \"\"\"\n",
        "    print ('Computing Motifs....')\n",
        "    !gimme scan $fasta -p  JASPAR2020_vertebrates -g hg38 > train_results_motifs.bed\n",
        "    df_results_seq_guime = pd.read_csv('train_results_motifs.bed', sep='\\t', skiprows=5, header=None)\n",
        "    return df_results_seq_guime"
      ]
    },
    {
      "cell_type": "code",
      "source": [
        "df_results_seq_guime=motifs_from_fasta('recoded_motifs_seqs.fasta')"
      ],
      "metadata": {
        "id": "z9q5oNoWPCx3",
        "colab": {
          "base_uri": "https://localhost:8080/"
        },
        "outputId": "f38f7fbe-d431-4661-f12c-d91a8f0ca798"
      },
      "execution_count": 30,
      "outputs": [
        {
          "output_type": "stream",
          "name": "stdout",
          "text": [
            "Computing Motifs....\n",
            "2022-12-09 07:13:43,181 - INFO - No config found.\n",
            "2022-12-09 07:13:43,182 - INFO - Creating new config.\n",
            "2022-12-09 07:13:43,187 - INFO - Using included version of MDmodule.\n",
            "2022-12-09 07:13:43,227 - WARNING - MEME not found. To include it you will have to install it.\n",
            "2022-12-09 07:13:43,266 - WARNING - MEMEW not found. To include it you will have to install it.\n",
            "2022-12-09 07:13:43,305 - WARNING - DREME not found. To include it you will have to install it.\n",
            "2022-12-09 07:13:43,344 - WARNING - Weeder not found. To include it you will have to install it.\n",
            "2022-12-09 07:13:43,383 - WARNING - GADEM not found. To include it you will have to install it.\n",
            "2022-12-09 07:13:43,383 - INFO - Using included version of MotifSampler.\n",
            "2022-12-09 07:13:43,423 - WARNING - Trawler not found. To include it you will have to install it.\n",
            "2022-12-09 07:13:43,423 - INFO - Using included version of Improbizer.\n",
            "2022-12-09 07:13:43,423 - INFO - Using included version of BioProspector.\n",
            "2022-12-09 07:13:43,424 - INFO - Using included version of Posmo.\n",
            "2022-12-09 07:13:43,424 - INFO - Using included version of ChIPMunk.\n",
            "2022-12-09 07:13:43,424 - INFO - Using included version of AMD.\n",
            "2022-12-09 07:13:43,424 - INFO - Using included version of HMS.\n",
            "2022-12-09 07:13:43,465 - WARNING - Homer not found. To include it you will have to install it.\n",
            "2022-12-09 07:13:43,504 - WARNING - XXmotif not found. To include it you will have to install it.\n",
            "2022-12-09 07:13:43,538 - WARNING - ProSampler not found. To include it you will have to install it.\n",
            "2022-12-09 07:13:43,539 - WARNING - Yamda not in config\n",
            "2022-12-09 07:13:43,569 - WARNING - DiNAMO not found. To include it you will have to install it.\n",
            "2022-12-09 07:13:43,597 - WARNING - RPMCMC not found. To include it you will have to install it.\n",
            "2022-12-09 07:13:43,598 - INFO - Configuration file: /root/.config/gimmemotifs/gimmemotifs.cfg\n",
            "2022-12-09 07:14:06,313 - INFO - determining FPR-based threshold\n",
            "scanning: 100% 29857/29857 [06:12<00:00, 80.11 sequences/s] \n"
          ]
        }
      ]
    },
    {
      "cell_type": "code",
      "source": [
        "df_results_seq_guime"
      ],
      "metadata": {
        "colab": {
          "base_uri": "https://localhost:8080/",
          "height": 424
        },
        "id": "lBlB5ynPG2PU",
        "outputId": "f6101267-003e-4bb8-ae22-214673b83acf"
      },
      "execution_count": 31,
      "outputs": [
        {
          "output_type": "execute_result",
          "data": {
            "text/plain": [
              "                    0        1             2    3    4          5  6  7  \\\n",
              "0           motif_1_1  pfmscan  misc_feature  133  144  10.743772  -  .   \n",
              "1           motif_1_1  pfmscan  misc_feature   11   25   9.056744  -  .   \n",
              "2           motif_1_1  pfmscan  misc_feature   77   89   9.295637  -  .   \n",
              "3           motif_1_1  pfmscan  misc_feature   77   89   9.161552  -  .   \n",
              "4           motif_1_1  pfmscan  misc_feature   78   86   8.922553  +  .   \n",
              "...               ...      ...           ...  ...  ...        ... .. ..   \n",
              "334394  motif_29857_1  pfmscan  misc_feature   44   54   9.495406  -  .   \n",
              "334395  motif_29857_1  pfmscan  misc_feature   44   54   9.689605  -  .   \n",
              "334396  motif_29857_1  pfmscan  misc_feature   44   54   9.218449  -  .   \n",
              "334397  motif_29857_1  pfmscan  misc_feature   15   28  11.055816  +  .   \n",
              "334398  motif_29857_1  pfmscan  misc_feature   66   84   6.626284  +  .   \n",
              "\n",
              "                                                        8  \n",
              "0       motif_name \"MA0465.2_CDX2\" ; motif_instance \"T...  \n",
              "1       motif_name \"MA0154.4_EBF1\" ; motif_instance \"T...  \n",
              "2       motif_name \"MA0114.4_HNF4A\" ; motif_instance \"...  \n",
              "3       motif_name \"MA0484.2_HNF4G\" ; motif_instance \"...  \n",
              "4       motif_name \"MA1534.1_NR1I3\" ; motif_instance \"...  \n",
              "...                                                   ...  \n",
              "334394  motif_name \"MA1648.1_TCF12(var.2)\" ; motif_ins...  \n",
              "334395  motif_name \"MA0522.3_TCF3\" ; motif_instance \"G...  \n",
              "334396  motif_name \"MA0103.3_ZEB1\" ; motif_instance \"G...  \n",
              "334397  motif_name \"MA1652.1_ZKSCAN5\" ; motif_instance...  \n",
              "334398  motif_name \"UN0167.1_ZNF23\" ; motif_instance \"...  \n",
              "\n",
              "[334399 rows x 9 columns]"
            ],
            "text/html": [
              "\n",
              "  <div id=\"df-4a2f0172-93f4-4664-8a1e-9e0829c418fd\">\n",
              "    <div class=\"colab-df-container\">\n",
              "      <div>\n",
              "<style scoped>\n",
              "    .dataframe tbody tr th:only-of-type {\n",
              "        vertical-align: middle;\n",
              "    }\n",
              "\n",
              "    .dataframe tbody tr th {\n",
              "        vertical-align: top;\n",
              "    }\n",
              "\n",
              "    .dataframe thead th {\n",
              "        text-align: right;\n",
              "    }\n",
              "</style>\n",
              "<table border=\"1\" class=\"dataframe\">\n",
              "  <thead>\n",
              "    <tr style=\"text-align: right;\">\n",
              "      <th></th>\n",
              "      <th>0</th>\n",
              "      <th>1</th>\n",
              "      <th>2</th>\n",
              "      <th>3</th>\n",
              "      <th>4</th>\n",
              "      <th>5</th>\n",
              "      <th>6</th>\n",
              "      <th>7</th>\n",
              "      <th>8</th>\n",
              "    </tr>\n",
              "  </thead>\n",
              "  <tbody>\n",
              "    <tr>\n",
              "      <th>0</th>\n",
              "      <td>motif_1_1</td>\n",
              "      <td>pfmscan</td>\n",
              "      <td>misc_feature</td>\n",
              "      <td>133</td>\n",
              "      <td>144</td>\n",
              "      <td>10.743772</td>\n",
              "      <td>-</td>\n",
              "      <td>.</td>\n",
              "      <td>motif_name \"MA0465.2_CDX2\" ; motif_instance \"T...</td>\n",
              "    </tr>\n",
              "    <tr>\n",
              "      <th>1</th>\n",
              "      <td>motif_1_1</td>\n",
              "      <td>pfmscan</td>\n",
              "      <td>misc_feature</td>\n",
              "      <td>11</td>\n",
              "      <td>25</td>\n",
              "      <td>9.056744</td>\n",
              "      <td>-</td>\n",
              "      <td>.</td>\n",
              "      <td>motif_name \"MA0154.4_EBF1\" ; motif_instance \"T...</td>\n",
              "    </tr>\n",
              "    <tr>\n",
              "      <th>2</th>\n",
              "      <td>motif_1_1</td>\n",
              "      <td>pfmscan</td>\n",
              "      <td>misc_feature</td>\n",
              "      <td>77</td>\n",
              "      <td>89</td>\n",
              "      <td>9.295637</td>\n",
              "      <td>-</td>\n",
              "      <td>.</td>\n",
              "      <td>motif_name \"MA0114.4_HNF4A\" ; motif_instance \"...</td>\n",
              "    </tr>\n",
              "    <tr>\n",
              "      <th>3</th>\n",
              "      <td>motif_1_1</td>\n",
              "      <td>pfmscan</td>\n",
              "      <td>misc_feature</td>\n",
              "      <td>77</td>\n",
              "      <td>89</td>\n",
              "      <td>9.161552</td>\n",
              "      <td>-</td>\n",
              "      <td>.</td>\n",
              "      <td>motif_name \"MA0484.2_HNF4G\" ; motif_instance \"...</td>\n",
              "    </tr>\n",
              "    <tr>\n",
              "      <th>4</th>\n",
              "      <td>motif_1_1</td>\n",
              "      <td>pfmscan</td>\n",
              "      <td>misc_feature</td>\n",
              "      <td>78</td>\n",
              "      <td>86</td>\n",
              "      <td>8.922553</td>\n",
              "      <td>+</td>\n",
              "      <td>.</td>\n",
              "      <td>motif_name \"MA1534.1_NR1I3\" ; motif_instance \"...</td>\n",
              "    </tr>\n",
              "    <tr>\n",
              "      <th>...</th>\n",
              "      <td>...</td>\n",
              "      <td>...</td>\n",
              "      <td>...</td>\n",
              "      <td>...</td>\n",
              "      <td>...</td>\n",
              "      <td>...</td>\n",
              "      <td>...</td>\n",
              "      <td>...</td>\n",
              "      <td>...</td>\n",
              "    </tr>\n",
              "    <tr>\n",
              "      <th>334394</th>\n",
              "      <td>motif_29857_1</td>\n",
              "      <td>pfmscan</td>\n",
              "      <td>misc_feature</td>\n",
              "      <td>44</td>\n",
              "      <td>54</td>\n",
              "      <td>9.495406</td>\n",
              "      <td>-</td>\n",
              "      <td>.</td>\n",
              "      <td>motif_name \"MA1648.1_TCF12(var.2)\" ; motif_ins...</td>\n",
              "    </tr>\n",
              "    <tr>\n",
              "      <th>334395</th>\n",
              "      <td>motif_29857_1</td>\n",
              "      <td>pfmscan</td>\n",
              "      <td>misc_feature</td>\n",
              "      <td>44</td>\n",
              "      <td>54</td>\n",
              "      <td>9.689605</td>\n",
              "      <td>-</td>\n",
              "      <td>.</td>\n",
              "      <td>motif_name \"MA0522.3_TCF3\" ; motif_instance \"G...</td>\n",
              "    </tr>\n",
              "    <tr>\n",
              "      <th>334396</th>\n",
              "      <td>motif_29857_1</td>\n",
              "      <td>pfmscan</td>\n",
              "      <td>misc_feature</td>\n",
              "      <td>44</td>\n",
              "      <td>54</td>\n",
              "      <td>9.218449</td>\n",
              "      <td>-</td>\n",
              "      <td>.</td>\n",
              "      <td>motif_name \"MA0103.3_ZEB1\" ; motif_instance \"G...</td>\n",
              "    </tr>\n",
              "    <tr>\n",
              "      <th>334397</th>\n",
              "      <td>motif_29857_1</td>\n",
              "      <td>pfmscan</td>\n",
              "      <td>misc_feature</td>\n",
              "      <td>15</td>\n",
              "      <td>28</td>\n",
              "      <td>11.055816</td>\n",
              "      <td>+</td>\n",
              "      <td>.</td>\n",
              "      <td>motif_name \"MA1652.1_ZKSCAN5\" ; motif_instance...</td>\n",
              "    </tr>\n",
              "    <tr>\n",
              "      <th>334398</th>\n",
              "      <td>motif_29857_1</td>\n",
              "      <td>pfmscan</td>\n",
              "      <td>misc_feature</td>\n",
              "      <td>66</td>\n",
              "      <td>84</td>\n",
              "      <td>6.626284</td>\n",
              "      <td>+</td>\n",
              "      <td>.</td>\n",
              "      <td>motif_name \"UN0167.1_ZNF23\" ; motif_instance \"...</td>\n",
              "    </tr>\n",
              "  </tbody>\n",
              "</table>\n",
              "<p>334399 rows × 9 columns</p>\n",
              "</div>\n",
              "      <button class=\"colab-df-convert\" onclick=\"convertToInteractive('df-4a2f0172-93f4-4664-8a1e-9e0829c418fd')\"\n",
              "              title=\"Convert this dataframe to an interactive table.\"\n",
              "              style=\"display:none;\">\n",
              "        \n",
              "  <svg xmlns=\"http://www.w3.org/2000/svg\" height=\"24px\"viewBox=\"0 0 24 24\"\n",
              "       width=\"24px\">\n",
              "    <path d=\"M0 0h24v24H0V0z\" fill=\"none\"/>\n",
              "    <path d=\"M18.56 5.44l.94 2.06.94-2.06 2.06-.94-2.06-.94-.94-2.06-.94 2.06-2.06.94zm-11 1L8.5 8.5l.94-2.06 2.06-.94-2.06-.94L8.5 2.5l-.94 2.06-2.06.94zm10 10l.94 2.06.94-2.06 2.06-.94-2.06-.94-.94-2.06-.94 2.06-2.06.94z\"/><path d=\"M17.41 7.96l-1.37-1.37c-.4-.4-.92-.59-1.43-.59-.52 0-1.04.2-1.43.59L10.3 9.45l-7.72 7.72c-.78.78-.78 2.05 0 2.83L4 21.41c.39.39.9.59 1.41.59.51 0 1.02-.2 1.41-.59l7.78-7.78 2.81-2.81c.8-.78.8-2.07 0-2.86zM5.41 20L4 18.59l7.72-7.72 1.47 1.35L5.41 20z\"/>\n",
              "  </svg>\n",
              "      </button>\n",
              "      \n",
              "  <style>\n",
              "    .colab-df-container {\n",
              "      display:flex;\n",
              "      flex-wrap:wrap;\n",
              "      gap: 12px;\n",
              "    }\n",
              "\n",
              "    .colab-df-convert {\n",
              "      background-color: #E8F0FE;\n",
              "      border: none;\n",
              "      border-radius: 50%;\n",
              "      cursor: pointer;\n",
              "      display: none;\n",
              "      fill: #1967D2;\n",
              "      height: 32px;\n",
              "      padding: 0 0 0 0;\n",
              "      width: 32px;\n",
              "    }\n",
              "\n",
              "    .colab-df-convert:hover {\n",
              "      background-color: #E2EBFA;\n",
              "      box-shadow: 0px 1px 2px rgba(60, 64, 67, 0.3), 0px 1px 3px 1px rgba(60, 64, 67, 0.15);\n",
              "      fill: #174EA6;\n",
              "    }\n",
              "\n",
              "    [theme=dark] .colab-df-convert {\n",
              "      background-color: #3B4455;\n",
              "      fill: #D2E3FC;\n",
              "    }\n",
              "\n",
              "    [theme=dark] .colab-df-convert:hover {\n",
              "      background-color: #434B5C;\n",
              "      box-shadow: 0px 1px 3px 1px rgba(0, 0, 0, 0.15);\n",
              "      filter: drop-shadow(0px 1px 2px rgba(0, 0, 0, 0.3));\n",
              "      fill: #FFFFFF;\n",
              "    }\n",
              "  </style>\n",
              "\n",
              "      <script>\n",
              "        const buttonEl =\n",
              "          document.querySelector('#df-4a2f0172-93f4-4664-8a1e-9e0829c418fd button.colab-df-convert');\n",
              "        buttonEl.style.display =\n",
              "          google.colab.kernel.accessAllowed ? 'block' : 'none';\n",
              "\n",
              "        async function convertToInteractive(key) {\n",
              "          const element = document.querySelector('#df-4a2f0172-93f4-4664-8a1e-9e0829c418fd');\n",
              "          const dataTable =\n",
              "            await google.colab.kernel.invokeFunction('convertToInteractive',\n",
              "                                                     [key], {});\n",
              "          if (!dataTable) return;\n",
              "\n",
              "          const docLinkHtml = 'Like what you see? Visit the ' +\n",
              "            '<a target=\"_blank\" href=https://colab.research.google.com/notebooks/data_table.ipynb>data table notebook</a>'\n",
              "            + ' to learn more about interactive tables.';\n",
              "          element.innerHTML = '';\n",
              "          dataTable['output_type'] = 'display_data';\n",
              "          await google.colab.output.renderOutput(dataTable, element);\n",
              "          const docLink = document.createElement('div');\n",
              "          docLink.innerHTML = docLinkHtml;\n",
              "          element.appendChild(docLink);\n",
              "        }\n",
              "      </script>\n",
              "    </div>\n",
              "  </div>\n",
              "  "
            ]
          },
          "metadata": {},
          "execution_count": 31
        }
      ]
    },
    {
      "cell_type": "code",
      "source": [
        "N_MOTIF_OCCURANCES_TO_PLOT=20"
      ],
      "metadata": {
        "id": "x1qqachM_4gf"
      },
      "execution_count": null,
      "outputs": []
    },
    {
      "cell_type": "code",
      "source": [
        "sns.countplot(y='motifs',data=df_results_seq_guime, order=pd.value_counts(df_results_seq_guime['motifs']).iloc[:N_MOTIF_OCCURANCES_TO_PLOT].index)"
      ],
      "metadata": {
        "colab": {
          "base_uri": "https://localhost:8080/",
          "height": 296
        },
        "id": "SVz5KhZ14EZf",
        "outputId": "496d01fb-9e5b-46fb-ce4d-c5e287369f81"
      },
      "execution_count": 51,
      "outputs": [
        {
          "output_type": "execute_result",
          "data": {
            "text/plain": [
              "<matplotlib.axes._subplots.AxesSubplot at 0x7f438ea969a0>"
            ]
          },
          "metadata": {},
          "execution_count": 51
        },
        {
          "output_type": "display_data",
          "data": {
            "text/plain": [
              "<Figure size 432x288 with 1 Axes>"
            ],
            "image/png": "[encoded data removed]"
          },
          "metadata": {
            "needs_background": "light"
          }
        }
      ]
    }
  ],
  "metadata": {
    "accelerator": "GPU",
    "colab": {
      "provenance": []
    },
    "kernelspec": {
      "display_name": "Python 3 (ipykernel)",
      "language": "python",
      "name": "python3"
    },
    "language_info": {
      "codemirror_mode": {
        "name": "ipython",
        "version": 3
      },
      "file_extension": ".py",
      "mimetype": "text/x-python",
      "name": "python",
      "nbconvert_exporter": "python",
      "pygments_lexer": "ipython3",
      "version": "3.9.7"
    }
  },
  "nbformat": 4,
  "nbformat_minor": 0
}